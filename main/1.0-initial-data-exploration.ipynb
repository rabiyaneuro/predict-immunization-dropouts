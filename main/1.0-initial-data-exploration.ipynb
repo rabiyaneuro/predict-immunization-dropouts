{
 "cells": [
  {
   "cell_type": "code",
   "execution_count": 2,
   "metadata": {},
   "outputs": [],
   "source": [
    "# SETUP\n",
    "\n",
    "#general imports\n",
    "import numpy as np\n",
    "import pandas as pd\n",
    "\n",
    "#visualization imports\n",
    "import matplotlib.pyplot as plt\n",
    "%matplotlib inline\n",
    "import seaborn as sns\n",
    "\n",
    "RND = 2020"
   ]
  },
  {
   "cell_type": "code",
   "execution_count": 284,
   "metadata": {},
   "outputs": [],
   "source": []
  },
  {
   "cell_type": "code",
   "execution_count": 347,
   "metadata": {},
   "outputs": [],
   "source": [
    "patients_df = pd.read_csv(\"patients_db_v2.csv\")"
   ]
  },
  {
   "cell_type": "markdown",
   "metadata": {},
   "source": [
    "### Patient Data Table"
   ]
  },
  {
   "cell_type": "code",
   "execution_count": 348,
   "metadata": {},
   "outputs": [
    {
     "data": {
      "text/html": [
       "<div>\n",
       "<style scoped>\n",
       "    .dataframe tbody tr th:only-of-type {\n",
       "        vertical-align: middle;\n",
       "    }\n",
       "\n",
       "    .dataframe tbody tr th {\n",
       "        vertical-align: top;\n",
       "    }\n",
       "\n",
       "    .dataframe thead th {\n",
       "        text-align: right;\n",
       "    }\n",
       "</style>\n",
       "<table border=\"1\" class=\"dataframe\">\n",
       "  <thead>\n",
       "    <tr style=\"text-align: right;\">\n",
       "      <th></th>\n",
       "      <th>Unnamed: 0</th>\n",
       "      <th>pat_id</th>\n",
       "      <th>fac_id</th>\n",
       "      <th>dob</th>\n",
       "      <th>gender</th>\n",
       "      <th>long</th>\n",
       "      <th>lat</th>\n",
       "      <th>region</th>\n",
       "      <th>district</th>\n",
       "    </tr>\n",
       "  </thead>\n",
       "  <tbody>\n",
       "    <tr>\n",
       "      <th>0</th>\n",
       "      <td>0</td>\n",
       "      <td>1</td>\n",
       "      <td>51.0</td>\n",
       "      <td>2019-01-22</td>\n",
       "      <td>f</td>\n",
       "      <td>NaN</td>\n",
       "      <td>NaN</td>\n",
       "      <td>Ghanzi</td>\n",
       "      <td>Ghanzi</td>\n",
       "    </tr>\n",
       "    <tr>\n",
       "      <th>1</th>\n",
       "      <td>1</td>\n",
       "      <td>2</td>\n",
       "      <td>89.0</td>\n",
       "      <td>2019-11-12</td>\n",
       "      <td>f</td>\n",
       "      <td>24.877556</td>\n",
       "      <td>-18.370709</td>\n",
       "      <td>Chobe</td>\n",
       "      <td>Chobe</td>\n",
       "    </tr>\n",
       "    <tr>\n",
       "      <th>2</th>\n",
       "      <td>2</td>\n",
       "      <td>3</td>\n",
       "      <td>161.0</td>\n",
       "      <td>2019-11-03</td>\n",
       "      <td>m</td>\n",
       "      <td>25.249672</td>\n",
       "      <td>-20.490189</td>\n",
       "      <td>Central</td>\n",
       "      <td>Tutume</td>\n",
       "    </tr>\n",
       "    <tr>\n",
       "      <th>3</th>\n",
       "      <td>3</td>\n",
       "      <td>4</td>\n",
       "      <td>168.0</td>\n",
       "      <td>2019-04-17</td>\n",
       "      <td>f</td>\n",
       "      <td>25.579269</td>\n",
       "      <td>-21.412151</td>\n",
       "      <td>Central</td>\n",
       "      <td>Lethlakane</td>\n",
       "    </tr>\n",
       "    <tr>\n",
       "      <th>4</th>\n",
       "      <td>4</td>\n",
       "      <td>5</td>\n",
       "      <td>183.0</td>\n",
       "      <td>2018-12-08</td>\n",
       "      <td>m</td>\n",
       "      <td>28.487746</td>\n",
       "      <td>-22.571451</td>\n",
       "      <td>Central</td>\n",
       "      <td>Tuli</td>\n",
       "    </tr>\n",
       "  </tbody>\n",
       "</table>\n",
       "</div>"
      ],
      "text/plain": [
       "   Unnamed: 0  pat_id  fac_id         dob gender       long        lat  \\\n",
       "0           0       1    51.0  2019-01-22      f        NaN        NaN   \n",
       "1           1       2    89.0  2019-11-12      f  24.877556 -18.370709   \n",
       "2           2       3   161.0  2019-11-03      m  25.249672 -20.490189   \n",
       "3           3       4   168.0  2019-04-17      f  25.579269 -21.412151   \n",
       "4           4       5   183.0  2018-12-08      m  28.487746 -22.571451   \n",
       "\n",
       "    region    district  \n",
       "0   Ghanzi      Ghanzi  \n",
       "1    Chobe       Chobe  \n",
       "2  Central      Tutume  \n",
       "3  Central  Lethlakane  \n",
       "4  Central        Tuli  "
      ]
     },
     "execution_count": 348,
     "metadata": {},
     "output_type": "execute_result"
    }
   ],
   "source": [
    "patients_df.head()"
   ]
  },
  {
   "cell_type": "code",
   "execution_count": 349,
   "metadata": {},
   "outputs": [
    {
     "name": "stdout",
     "output_type": "stream",
     "text": [
      "<class 'pandas.core.frame.DataFrame'>\n",
      "RangeIndex: 50000 entries, 0 to 49999\n",
      "Data columns (total 9 columns):\n",
      "Unnamed: 0    50000 non-null int64\n",
      "pat_id        50000 non-null int64\n",
      "fac_id        47496 non-null float64\n",
      "dob           50000 non-null object\n",
      "gender        48998 non-null object\n",
      "long          47464 non-null float64\n",
      "lat           47464 non-null float64\n",
      "region        48366 non-null object\n",
      "district      48366 non-null object\n",
      "dtypes: float64(3), int64(2), object(4)\n",
      "memory usage: 3.4+ MB\n"
     ]
    }
   ],
   "source": [
    "# summary of data in table\n",
    "patients_df.info()\n",
    "\n",
    "# 50,000 rows, 9 columns\n",
    "# lot of columns have missing values"
   ]
  },
  {
   "cell_type": "code",
   "execution_count": 350,
   "metadata": {},
   "outputs": [
    {
     "data": {
      "text/plain": [
       "Unnamed: 0       0\n",
       "pat_id           0\n",
       "fac_id        2504\n",
       "dob              0\n",
       "gender        1002\n",
       "long          2536\n",
       "lat           2536\n",
       "region        1634\n",
       "district      1634\n",
       "dtype: int64"
      ]
     },
     "execution_count": 350,
     "metadata": {},
     "output_type": "execute_result"
    }
   ],
   "source": [
    "# number of null values per column\n",
    "patients_df.isnull().sum()"
   ]
  },
  {
   "cell_type": "code",
   "execution_count": 351,
   "metadata": {},
   "outputs": [
    {
     "data": {
      "text/html": [
       "<div>\n",
       "<style scoped>\n",
       "    .dataframe tbody tr th:only-of-type {\n",
       "        vertical-align: middle;\n",
       "    }\n",
       "\n",
       "    .dataframe tbody tr th {\n",
       "        vertical-align: top;\n",
       "    }\n",
       "\n",
       "    .dataframe thead th {\n",
       "        text-align: right;\n",
       "    }\n",
       "</style>\n",
       "<table border=\"1\" class=\"dataframe\">\n",
       "  <thead>\n",
       "    <tr style=\"text-align: right;\">\n",
       "      <th></th>\n",
       "      <th>Unnamed: 0</th>\n",
       "      <th>pat_id</th>\n",
       "      <th>fac_id</th>\n",
       "      <th>dob</th>\n",
       "      <th>gender</th>\n",
       "      <th>long</th>\n",
       "      <th>lat</th>\n",
       "      <th>region</th>\n",
       "      <th>district</th>\n",
       "    </tr>\n",
       "  </thead>\n",
       "  <tbody>\n",
       "    <tr>\n",
       "      <th>count</th>\n",
       "      <td>50000.000000</td>\n",
       "      <td>50000.000000</td>\n",
       "      <td>47496.000000</td>\n",
       "      <td>50000</td>\n",
       "      <td>48998</td>\n",
       "      <td>47464.000000</td>\n",
       "      <td>47464.000000</td>\n",
       "      <td>48366</td>\n",
       "      <td>48366</td>\n",
       "    </tr>\n",
       "    <tr>\n",
       "      <th>unique</th>\n",
       "      <td>NaN</td>\n",
       "      <td>NaN</td>\n",
       "      <td>NaN</td>\n",
       "      <td>730</td>\n",
       "      <td>2</td>\n",
       "      <td>NaN</td>\n",
       "      <td>NaN</td>\n",
       "      <td>15</td>\n",
       "      <td>24</td>\n",
       "    </tr>\n",
       "    <tr>\n",
       "      <th>top</th>\n",
       "      <td>NaN</td>\n",
       "      <td>NaN</td>\n",
       "      <td>NaN</td>\n",
       "      <td>2019-04-14</td>\n",
       "      <td>m</td>\n",
       "      <td>NaN</td>\n",
       "      <td>NaN</td>\n",
       "      <td>North-West</td>\n",
       "      <td>Ngamiland East</td>\n",
       "    </tr>\n",
       "    <tr>\n",
       "      <th>freq</th>\n",
       "      <td>NaN</td>\n",
       "      <td>NaN</td>\n",
       "      <td>NaN</td>\n",
       "      <td>95</td>\n",
       "      <td>24508</td>\n",
       "      <td>NaN</td>\n",
       "      <td>NaN</td>\n",
       "      <td>16597</td>\n",
       "      <td>14888</td>\n",
       "    </tr>\n",
       "    <tr>\n",
       "      <th>mean</th>\n",
       "      <td>24999.500000</td>\n",
       "      <td>25000.500000</td>\n",
       "      <td>173.138033</td>\n",
       "      <td>NaN</td>\n",
       "      <td>NaN</td>\n",
       "      <td>24.832407</td>\n",
       "      <td>-21.280005</td>\n",
       "      <td>NaN</td>\n",
       "      <td>NaN</td>\n",
       "    </tr>\n",
       "    <tr>\n",
       "      <th>std</th>\n",
       "      <td>14433.901067</td>\n",
       "      <td>14433.901067</td>\n",
       "      <td>99.776462</td>\n",
       "      <td>NaN</td>\n",
       "      <td>NaN</td>\n",
       "      <td>1.976524</td>\n",
       "      <td>2.271760</td>\n",
       "      <td>NaN</td>\n",
       "      <td>NaN</td>\n",
       "    </tr>\n",
       "    <tr>\n",
       "      <th>min</th>\n",
       "      <td>0.000000</td>\n",
       "      <td>1.000000</td>\n",
       "      <td>1.000000</td>\n",
       "      <td>NaN</td>\n",
       "      <td>NaN</td>\n",
       "      <td>20.216349</td>\n",
       "      <td>-26.328640</td>\n",
       "      <td>NaN</td>\n",
       "      <td>NaN</td>\n",
       "    </tr>\n",
       "    <tr>\n",
       "      <th>25%</th>\n",
       "      <td>12499.750000</td>\n",
       "      <td>12500.750000</td>\n",
       "      <td>87.000000</td>\n",
       "      <td>NaN</td>\n",
       "      <td>NaN</td>\n",
       "      <td>23.356419</td>\n",
       "      <td>-22.575735</td>\n",
       "      <td>NaN</td>\n",
       "      <td>NaN</td>\n",
       "    </tr>\n",
       "    <tr>\n",
       "      <th>50%</th>\n",
       "      <td>24999.500000</td>\n",
       "      <td>25000.500000</td>\n",
       "      <td>173.000000</td>\n",
       "      <td>NaN</td>\n",
       "      <td>NaN</td>\n",
       "      <td>24.784149</td>\n",
       "      <td>-20.287375</td>\n",
       "      <td>NaN</td>\n",
       "      <td>NaN</td>\n",
       "    </tr>\n",
       "    <tr>\n",
       "      <th>75%</th>\n",
       "      <td>37499.250000</td>\n",
       "      <td>37500.250000</td>\n",
       "      <td>260.000000</td>\n",
       "      <td>NaN</td>\n",
       "      <td>NaN</td>\n",
       "      <td>25.914824</td>\n",
       "      <td>-19.977738</td>\n",
       "      <td>NaN</td>\n",
       "      <td>NaN</td>\n",
       "    </tr>\n",
       "    <tr>\n",
       "      <th>max</th>\n",
       "      <td>49999.000000</td>\n",
       "      <td>50000.000000</td>\n",
       "      <td>345.000000</td>\n",
       "      <td>NaN</td>\n",
       "      <td>NaN</td>\n",
       "      <td>28.633995</td>\n",
       "      <td>-17.790980</td>\n",
       "      <td>NaN</td>\n",
       "      <td>NaN</td>\n",
       "    </tr>\n",
       "  </tbody>\n",
       "</table>\n",
       "</div>"
      ],
      "text/plain": [
       "          Unnamed: 0        pat_id        fac_id         dob gender  \\\n",
       "count   50000.000000  50000.000000  47496.000000       50000  48998   \n",
       "unique           NaN           NaN           NaN         730      2   \n",
       "top              NaN           NaN           NaN  2019-04-14      m   \n",
       "freq             NaN           NaN           NaN          95  24508   \n",
       "mean    24999.500000  25000.500000    173.138033         NaN    NaN   \n",
       "std     14433.901067  14433.901067     99.776462         NaN    NaN   \n",
       "min         0.000000      1.000000      1.000000         NaN    NaN   \n",
       "25%     12499.750000  12500.750000     87.000000         NaN    NaN   \n",
       "50%     24999.500000  25000.500000    173.000000         NaN    NaN   \n",
       "75%     37499.250000  37500.250000    260.000000         NaN    NaN   \n",
       "max     49999.000000  50000.000000    345.000000         NaN    NaN   \n",
       "\n",
       "                long           lat      region        district  \n",
       "count   47464.000000  47464.000000       48366           48366  \n",
       "unique           NaN           NaN          15              24  \n",
       "top              NaN           NaN  North-West  Ngamiland East  \n",
       "freq             NaN           NaN       16597           14888  \n",
       "mean       24.832407    -21.280005         NaN             NaN  \n",
       "std         1.976524      2.271760         NaN             NaN  \n",
       "min        20.216349    -26.328640         NaN             NaN  \n",
       "25%        23.356419    -22.575735         NaN             NaN  \n",
       "50%        24.784149    -20.287375         NaN             NaN  \n",
       "75%        25.914824    -19.977738         NaN             NaN  \n",
       "max        28.633995    -17.790980         NaN             NaN  "
      ]
     },
     "execution_count": 351,
     "metadata": {},
     "output_type": "execute_result"
    }
   ],
   "source": [
    "# summary of statistics of table data\n",
    "patients_df.describe(include = 'all')"
   ]
  },
  {
   "cell_type": "code",
   "execution_count": 352,
   "metadata": {},
   "outputs": [
    {
     "name": "stdout",
     "output_type": "stream",
     "text": [
      "<class 'pandas.core.frame.DataFrame'>\n",
      "Int64Index: 42772 entries, 1 to 49999\n",
      "Data columns (total 9 columns):\n",
      "Unnamed: 0    42772 non-null int64\n",
      "pat_id        42772 non-null int64\n",
      "fac_id        42772 non-null float64\n",
      "dob           42772 non-null object\n",
      "gender        42772 non-null object\n",
      "long          42772 non-null float64\n",
      "lat           42772 non-null float64\n",
      "region        42772 non-null object\n",
      "district      42772 non-null object\n",
      "dtypes: float64(3), int64(2), object(4)\n",
      "memory usage: 3.3+ MB\n"
     ]
    }
   ],
   "source": [
    "# how much data do we lose if we drop rows with missing values?\n",
    "\n",
    "pat_dropna= patients_df.dropna()\n",
    "pat_dropna.info()"
   ]
  },
  {
   "cell_type": "code",
   "execution_count": 353,
   "metadata": {},
   "outputs": [
    {
     "data": {
      "text/plain": [
       "0.14456000000000002"
      ]
     },
     "execution_count": 353,
     "metadata": {},
     "output_type": "execute_result"
    }
   ],
   "source": [
    "# we lose 14% of data if we drop rows with na - too much\n",
    "\n",
    "1 - 42772/50000"
   ]
  },
  {
   "cell_type": "markdown",
   "metadata": {},
   "source": [
    "#### pat_id"
   ]
  },
  {
   "cell_type": "code",
   "execution_count": 354,
   "metadata": {},
   "outputs": [
    {
     "data": {
      "text/plain": [
       "True"
      ]
     },
     "execution_count": 354,
     "metadata": {},
     "output_type": "execute_result"
    }
   ],
   "source": [
    "patients_df['pat_id'].is_unique"
   ]
  },
  {
   "cell_type": "code",
   "execution_count": 355,
   "metadata": {},
   "outputs": [
    {
     "data": {
      "text/html": [
       "<div>\n",
       "<style scoped>\n",
       "    .dataframe tbody tr th:only-of-type {\n",
       "        vertical-align: middle;\n",
       "    }\n",
       "\n",
       "    .dataframe tbody tr th {\n",
       "        vertical-align: top;\n",
       "    }\n",
       "\n",
       "    .dataframe thead th {\n",
       "        text-align: right;\n",
       "    }\n",
       "</style>\n",
       "<table border=\"1\" class=\"dataframe\">\n",
       "  <thead>\n",
       "    <tr style=\"text-align: right;\">\n",
       "      <th></th>\n",
       "      <th>fac_id</th>\n",
       "      <th>dob</th>\n",
       "      <th>gender</th>\n",
       "      <th>long</th>\n",
       "      <th>lat</th>\n",
       "      <th>region</th>\n",
       "      <th>district</th>\n",
       "    </tr>\n",
       "    <tr>\n",
       "      <th>pat_id</th>\n",
       "      <th></th>\n",
       "      <th></th>\n",
       "      <th></th>\n",
       "      <th></th>\n",
       "      <th></th>\n",
       "      <th></th>\n",
       "      <th></th>\n",
       "    </tr>\n",
       "  </thead>\n",
       "  <tbody>\n",
       "    <tr>\n",
       "      <th>1</th>\n",
       "      <td>51.0</td>\n",
       "      <td>2019-01-22</td>\n",
       "      <td>f</td>\n",
       "      <td>NaN</td>\n",
       "      <td>NaN</td>\n",
       "      <td>Ghanzi</td>\n",
       "      <td>Ghanzi</td>\n",
       "    </tr>\n",
       "    <tr>\n",
       "      <th>2</th>\n",
       "      <td>89.0</td>\n",
       "      <td>2019-11-12</td>\n",
       "      <td>f</td>\n",
       "      <td>24.877556</td>\n",
       "      <td>-18.370709</td>\n",
       "      <td>Chobe</td>\n",
       "      <td>Chobe</td>\n",
       "    </tr>\n",
       "    <tr>\n",
       "      <th>3</th>\n",
       "      <td>161.0</td>\n",
       "      <td>2019-11-03</td>\n",
       "      <td>m</td>\n",
       "      <td>25.249672</td>\n",
       "      <td>-20.490189</td>\n",
       "      <td>Central</td>\n",
       "      <td>Tutume</td>\n",
       "    </tr>\n",
       "    <tr>\n",
       "      <th>4</th>\n",
       "      <td>168.0</td>\n",
       "      <td>2019-04-17</td>\n",
       "      <td>f</td>\n",
       "      <td>25.579269</td>\n",
       "      <td>-21.412151</td>\n",
       "      <td>Central</td>\n",
       "      <td>Lethlakane</td>\n",
       "    </tr>\n",
       "    <tr>\n",
       "      <th>5</th>\n",
       "      <td>183.0</td>\n",
       "      <td>2018-12-08</td>\n",
       "      <td>m</td>\n",
       "      <td>28.487746</td>\n",
       "      <td>-22.571451</td>\n",
       "      <td>Central</td>\n",
       "      <td>Tuli</td>\n",
       "    </tr>\n",
       "  </tbody>\n",
       "</table>\n",
       "</div>"
      ],
      "text/plain": [
       "        fac_id         dob gender       long        lat   region    district\n",
       "pat_id                                                                      \n",
       "1         51.0  2019-01-22      f        NaN        NaN   Ghanzi      Ghanzi\n",
       "2         89.0  2019-11-12      f  24.877556 -18.370709    Chobe       Chobe\n",
       "3        161.0  2019-11-03      m  25.249672 -20.490189  Central      Tutume\n",
       "4        168.0  2019-04-17      f  25.579269 -21.412151  Central  Lethlakane\n",
       "5        183.0  2018-12-08      m  28.487746 -22.571451  Central        Tuli"
      ]
     },
     "execution_count": 355,
     "metadata": {},
     "output_type": "execute_result"
    }
   ],
   "source": [
    "#drop first column and set pat_id as index\n",
    "patients_df = patients_df.drop(columns = ['Unnamed: 0']).set_index('pat_id')\n",
    "patients_df.head()"
   ]
  },
  {
   "cell_type": "markdown",
   "metadata": {},
   "source": [
    "#### dob"
   ]
  },
  {
   "cell_type": "code",
   "execution_count": 356,
   "metadata": {},
   "outputs": [
    {
     "data": {
      "text/plain": [
       "count                   50000\n",
       "unique                    730\n",
       "top       2019-04-14 00:00:00\n",
       "freq                       95\n",
       "first     2018-01-01 00:00:00\n",
       "last      2019-12-31 00:00:00\n",
       "Name: dob, dtype: object"
      ]
     },
     "execution_count": 356,
     "metadata": {},
     "output_type": "execute_result"
    }
   ],
   "source": [
    "# convert string objects to datetime so we can do operations with dates later\n",
    "\n",
    "patients_df['dob'] = pd.to_datetime(patients_df['dob'], format='%Y-%m-%d')\n",
    "patients_df['dob'].describe()"
   ]
  },
  {
   "cell_type": "code",
   "execution_count": 357,
   "metadata": {},
   "outputs": [
    {
     "name": "stdout",
     "output_type": "stream",
     "text": [
      "<class 'pandas.core.frame.DataFrame'>\n",
      "Int64Index: 50000 entries, 1 to 50000\n",
      "Data columns (total 7 columns):\n",
      "fac_id      47496 non-null float64\n",
      "dob         50000 non-null datetime64[ns]\n",
      "gender      48998 non-null object\n",
      "long        47464 non-null float64\n",
      "lat         47464 non-null float64\n",
      "region      48366 non-null object\n",
      "district    48366 non-null object\n",
      "dtypes: datetime64[ns](1), float64(3), object(3)\n",
      "memory usage: 3.1+ MB\n"
     ]
    }
   ],
   "source": [
    "patients_df.info()"
   ]
  },
  {
   "cell_type": "markdown",
   "metadata": {},
   "source": [
    "#### gender"
   ]
  },
  {
   "cell_type": "code",
   "execution_count": 358,
   "metadata": {},
   "outputs": [
    {
     "data": {
      "text/plain": [
       "m      0.49016\n",
       "f      0.48980\n",
       "NaN    0.02004\n",
       "Name: gender, dtype: float64"
      ]
     },
     "execution_count": 358,
     "metadata": {},
     "output_type": "execute_result"
    }
   ],
   "source": [
    "patients_df['gender'].value_counts(dropna=False)/50000\n",
    "\n",
    "# label as percentage of the data \n",
    "# ignoring the null values, m and f are all consistent throughout"
   ]
  },
  {
   "cell_type": "code",
   "execution_count": 359,
   "metadata": {},
   "outputs": [
    {
     "name": "stdout",
     "output_type": "stream",
     "text": [
      "<class 'pandas.core.frame.DataFrame'>\n",
      "Int64Index: 50000 entries, 1 to 50000\n",
      "Data columns (total 7 columns):\n",
      "fac_id      47496 non-null float64\n",
      "dob         50000 non-null datetime64[ns]\n",
      "gender      50000 non-null object\n",
      "long        47464 non-null float64\n",
      "lat         47464 non-null float64\n",
      "region      48366 non-null object\n",
      "district    48366 non-null object\n",
      "dtypes: datetime64[ns](1), float64(3), object(3)\n",
      "memory usage: 3.1+ MB\n"
     ]
    }
   ],
   "source": [
    "# fill in null values with 'x' for now to inidicate unknown gender\n",
    "\n",
    "patients_df['gender'] = patients_df['gender'].fillna(\"x\")\n",
    "patients_df['gender'].value_counts()\n",
    "patients_df.info()"
   ]
  },
  {
   "cell_type": "markdown",
   "metadata": {},
   "source": [
    "#### fac_id"
   ]
  },
  {
   "cell_type": "code",
   "execution_count": 360,
   "metadata": {},
   "outputs": [
    {
     "data": {
      "text/plain": [
       "345"
      ]
     },
     "execution_count": 360,
     "metadata": {},
     "output_type": "execute_result"
    }
   ],
   "source": [
    "# number of unique ids\n",
    "patients_df['fac_id'].nunique()"
   ]
  },
  {
   "cell_type": "code",
   "execution_count": 361,
   "metadata": {},
   "outputs": [
    {
     "data": {
      "text/html": [
       "<div>\n",
       "<style scoped>\n",
       "    .dataframe tbody tr th:only-of-type {\n",
       "        vertical-align: middle;\n",
       "    }\n",
       "\n",
       "    .dataframe tbody tr th {\n",
       "        vertical-align: top;\n",
       "    }\n",
       "\n",
       "    .dataframe thead th {\n",
       "        text-align: right;\n",
       "    }\n",
       "</style>\n",
       "<table border=\"1\" class=\"dataframe\">\n",
       "  <thead>\n",
       "    <tr style=\"text-align: right;\">\n",
       "      <th></th>\n",
       "      <th>fac_id</th>\n",
       "      <th>dob</th>\n",
       "      <th>gender</th>\n",
       "      <th>long</th>\n",
       "      <th>lat</th>\n",
       "      <th>region</th>\n",
       "      <th>district</th>\n",
       "    </tr>\n",
       "    <tr>\n",
       "      <th>pat_id</th>\n",
       "      <th></th>\n",
       "      <th></th>\n",
       "      <th></th>\n",
       "      <th></th>\n",
       "      <th></th>\n",
       "      <th></th>\n",
       "      <th></th>\n",
       "    </tr>\n",
       "  </thead>\n",
       "  <tbody>\n",
       "    <tr>\n",
       "      <th>20</th>\n",
       "      <td>NaN</td>\n",
       "      <td>2019-01-22</td>\n",
       "      <td>m</td>\n",
       "      <td>25.348931</td>\n",
       "      <td>-20.458435</td>\n",
       "      <td>Central</td>\n",
       "      <td>Tutume</td>\n",
       "    </tr>\n",
       "    <tr>\n",
       "      <th>39</th>\n",
       "      <td>NaN</td>\n",
       "      <td>2018-07-29</td>\n",
       "      <td>m</td>\n",
       "      <td>23.356027</td>\n",
       "      <td>-20.074762</td>\n",
       "      <td>North-West</td>\n",
       "      <td>Ngamiland East</td>\n",
       "    </tr>\n",
       "    <tr>\n",
       "      <th>63</th>\n",
       "      <td>NaN</td>\n",
       "      <td>2019-04-19</td>\n",
       "      <td>m</td>\n",
       "      <td>27.835947</td>\n",
       "      <td>-21.969402</td>\n",
       "      <td>Selibe Phikwe</td>\n",
       "      <td>Selibe Phikwe</td>\n",
       "    </tr>\n",
       "    <tr>\n",
       "      <th>68</th>\n",
       "      <td>NaN</td>\n",
       "      <td>2018-01-25</td>\n",
       "      <td>m</td>\n",
       "      <td>28.491494</td>\n",
       "      <td>-22.572947</td>\n",
       "      <td>Central</td>\n",
       "      <td>Tuli</td>\n",
       "    </tr>\n",
       "    <tr>\n",
       "      <th>75</th>\n",
       "      <td>NaN</td>\n",
       "      <td>2019-12-31</td>\n",
       "      <td>m</td>\n",
       "      <td>23.355148</td>\n",
       "      <td>-20.075141</td>\n",
       "      <td>North-West</td>\n",
       "      <td>Ngamiland East</td>\n",
       "    </tr>\n",
       "  </tbody>\n",
       "</table>\n",
       "</div>"
      ],
      "text/plain": [
       "        fac_id        dob gender       long        lat         region  \\\n",
       "pat_id                                                                  \n",
       "20         NaN 2019-01-22      m  25.348931 -20.458435        Central   \n",
       "39         NaN 2018-07-29      m  23.356027 -20.074762     North-West   \n",
       "63         NaN 2019-04-19      m  27.835947 -21.969402  Selibe Phikwe   \n",
       "68         NaN 2018-01-25      m  28.491494 -22.572947        Central   \n",
       "75         NaN 2019-12-31      m  23.355148 -20.075141     North-West   \n",
       "\n",
       "              district  \n",
       "pat_id                  \n",
       "20              Tutume  \n",
       "39      Ngamiland East  \n",
       "63       Selibe Phikwe  \n",
       "68                Tuli  \n",
       "75      Ngamiland East  "
      ]
     },
     "execution_count": 361,
     "metadata": {},
     "output_type": "execute_result"
    }
   ],
   "source": [
    "patients_df[patients_df['fac_id'].isnull()].head()"
   ]
  },
  {
   "cell_type": "code",
   "execution_count": 362,
   "metadata": {},
   "outputs": [
    {
     "name": "stdout",
     "output_type": "stream",
     "text": [
      "<class 'pandas.core.frame.DataFrame'>\n",
      "Int64Index: 50000 entries, 1 to 50000\n",
      "Data columns (total 7 columns):\n",
      "fac_id      50000 non-null object\n",
      "dob         50000 non-null datetime64[ns]\n",
      "gender      50000 non-null object\n",
      "long        47464 non-null float64\n",
      "lat         47464 non-null float64\n",
      "region      48366 non-null object\n",
      "district    48366 non-null object\n",
      "dtypes: datetime64[ns](1), float64(2), object(4)\n",
      "memory usage: 3.1+ MB\n"
     ]
    }
   ],
   "source": [
    "# for the base model just fill in the missing fac_ids with 'unkown_fac'\n",
    "\n",
    "patients_df['fac_id'] = patients_df['fac_id'].fillna(\"unkown_fac\")\n",
    "patients_df.info()"
   ]
  },
  {
   "cell_type": "markdown",
   "metadata": {},
   "source": [
    "#### lat and long"
   ]
  },
  {
   "cell_type": "code",
   "execution_count": 363,
   "metadata": {},
   "outputs": [
    {
     "data": {
      "text/plain": [
       "345"
      ]
     },
     "execution_count": 363,
     "metadata": {},
     "output_type": "execute_result"
    }
   ],
   "source": [
    "patients_df['lat'].nunique()"
   ]
  },
  {
   "cell_type": "code",
   "execution_count": 364,
   "metadata": {},
   "outputs": [
    {
     "data": {
      "text/plain": [
       "count    47464.000000\n",
       "mean       -21.280005\n",
       "std          2.271760\n",
       "min        -26.328640\n",
       "25%        -22.575735\n",
       "50%        -20.287375\n",
       "75%        -19.977738\n",
       "max        -17.790980\n",
       "Name: lat, dtype: float64"
      ]
     },
     "execution_count": 364,
     "metadata": {},
     "output_type": "execute_result"
    }
   ],
   "source": [
    "patients_df['lat'].describe()"
   ]
  },
  {
   "cell_type": "code",
   "execution_count": 365,
   "metadata": {},
   "outputs": [
    {
     "data": {
      "text/plain": [
       "345"
      ]
     },
     "execution_count": 365,
     "metadata": {},
     "output_type": "execute_result"
    }
   ],
   "source": [
    "patients_df['long'].nunique()"
   ]
  },
  {
   "cell_type": "code",
   "execution_count": 366,
   "metadata": {},
   "outputs": [
    {
     "data": {
      "text/plain": [
       "count    47464.000000\n",
       "mean        24.832407\n",
       "std          1.976524\n",
       "min         20.216349\n",
       "25%         23.356419\n",
       "50%         24.784149\n",
       "75%         25.914824\n",
       "max         28.633995\n",
       "Name: long, dtype: float64"
      ]
     },
     "execution_count": 366,
     "metadata": {},
     "output_type": "execute_result"
    }
   ],
   "source": [
    "patients_df['long'].describe()"
   ]
  },
  {
   "cell_type": "code",
   "execution_count": 367,
   "metadata": {},
   "outputs": [
    {
     "data": {
      "text/html": [
       "<div>\n",
       "<style scoped>\n",
       "    .dataframe tbody tr th:only-of-type {\n",
       "        vertical-align: middle;\n",
       "    }\n",
       "\n",
       "    .dataframe tbody tr th {\n",
       "        vertical-align: top;\n",
       "    }\n",
       "\n",
       "    .dataframe thead th {\n",
       "        text-align: right;\n",
       "    }\n",
       "</style>\n",
       "<table border=\"1\" class=\"dataframe\">\n",
       "  <thead>\n",
       "    <tr style=\"text-align: right;\">\n",
       "      <th></th>\n",
       "      <th>fac_id</th>\n",
       "      <th>dob</th>\n",
       "      <th>gender</th>\n",
       "      <th>region</th>\n",
       "      <th>district</th>\n",
       "    </tr>\n",
       "    <tr>\n",
       "      <th>pat_id</th>\n",
       "      <th></th>\n",
       "      <th></th>\n",
       "      <th></th>\n",
       "      <th></th>\n",
       "      <th></th>\n",
       "    </tr>\n",
       "  </thead>\n",
       "  <tbody>\n",
       "    <tr>\n",
       "      <th>1</th>\n",
       "      <td>51</td>\n",
       "      <td>2019-01-22</td>\n",
       "      <td>f</td>\n",
       "      <td>Ghanzi</td>\n",
       "      <td>Ghanzi</td>\n",
       "    </tr>\n",
       "    <tr>\n",
       "      <th>2</th>\n",
       "      <td>89</td>\n",
       "      <td>2019-11-12</td>\n",
       "      <td>f</td>\n",
       "      <td>Chobe</td>\n",
       "      <td>Chobe</td>\n",
       "    </tr>\n",
       "    <tr>\n",
       "      <th>3</th>\n",
       "      <td>161</td>\n",
       "      <td>2019-11-03</td>\n",
       "      <td>m</td>\n",
       "      <td>Central</td>\n",
       "      <td>Tutume</td>\n",
       "    </tr>\n",
       "    <tr>\n",
       "      <th>4</th>\n",
       "      <td>168</td>\n",
       "      <td>2019-04-17</td>\n",
       "      <td>f</td>\n",
       "      <td>Central</td>\n",
       "      <td>Lethlakane</td>\n",
       "    </tr>\n",
       "    <tr>\n",
       "      <th>5</th>\n",
       "      <td>183</td>\n",
       "      <td>2018-12-08</td>\n",
       "      <td>m</td>\n",
       "      <td>Central</td>\n",
       "      <td>Tuli</td>\n",
       "    </tr>\n",
       "  </tbody>\n",
       "</table>\n",
       "</div>"
      ],
      "text/plain": [
       "       fac_id        dob gender   region    district\n",
       "pat_id                                              \n",
       "1          51 2019-01-22      f   Ghanzi      Ghanzi\n",
       "2          89 2019-11-12      f    Chobe       Chobe\n",
       "3         161 2019-11-03      m  Central      Tutume\n",
       "4         168 2019-04-17      f  Central  Lethlakane\n",
       "5         183 2018-12-08      m  Central        Tuli"
      ]
     },
     "execution_count": 367,
     "metadata": {},
     "output_type": "execute_result"
    }
   ],
   "source": [
    "# instead of filling the missing entries, I'm going to drop the lat/long columns for the base model predict\n",
    "# the fac_id includes similar info to lat/long and should be sufficient for the base model\n",
    "\n",
    "patients_df = patients_df.drop(columns = ['lat', 'long'])\n",
    "patients_df.head()"
   ]
  },
  {
   "cell_type": "code",
   "execution_count": 368,
   "metadata": {},
   "outputs": [
    {
     "name": "stdout",
     "output_type": "stream",
     "text": [
      "<class 'pandas.core.frame.DataFrame'>\n",
      "Int64Index: 50000 entries, 1 to 50000\n",
      "Data columns (total 5 columns):\n",
      "fac_id      50000 non-null object\n",
      "dob         50000 non-null datetime64[ns]\n",
      "gender      50000 non-null object\n",
      "region      48366 non-null object\n",
      "district    48366 non-null object\n",
      "dtypes: datetime64[ns](1), object(4)\n",
      "memory usage: 2.3+ MB\n"
     ]
    }
   ],
   "source": [
    "patients_df.info()"
   ]
  },
  {
   "cell_type": "markdown",
   "metadata": {},
   "source": [
    "#### district and region"
   ]
  },
  {
   "cell_type": "code",
   "execution_count": 369,
   "metadata": {},
   "outputs": [
    {
     "data": {
      "text/plain": [
       "24"
      ]
     },
     "execution_count": 369,
     "metadata": {},
     "output_type": "execute_result"
    }
   ],
   "source": [
    "patients_df['district'].nunique()"
   ]
  },
  {
   "cell_type": "code",
   "execution_count": 370,
   "metadata": {},
   "outputs": [
    {
     "data": {
      "text/plain": [
       "15"
      ]
     },
     "execution_count": 370,
     "metadata": {},
     "output_type": "execute_result"
    }
   ],
   "source": [
    "patients_df['region'].nunique()"
   ]
  },
  {
   "cell_type": "code",
   "execution_count": 371,
   "metadata": {},
   "outputs": [],
   "source": [
    "# fill in missing values with unkown marker \n",
    "\n",
    "patients_df['district'] = patients_df['district'].fillna(\"unkown_dis\")\n",
    "patients_df['region'] = patients_df['region'].fillna(\"unkown_reg\")"
   ]
  },
  {
   "cell_type": "code",
   "execution_count": 372,
   "metadata": {},
   "outputs": [
    {
     "data": {
      "text/plain": [
       "Ngamiland East     14888\n",
       "Gaborone            5051\n",
       "Chobe               4856\n",
       "Tuli                4261\n",
       "Tutume              4042\n",
       "Ghanzi              2145\n",
       "Gemsbok             2114\n",
       "Ngamiland West      1709\n",
       "South East          1651\n",
       "Francistown         1637\n",
       "unkown_dis          1634\n",
       "Serowe              1518\n",
       "Selibe Phikwe        682\n",
       "Masungu              564\n",
       "Kweneng South        559\n",
       "Lobatse              452\n",
       "Mahalapye            440\n",
       "Tshabong             305\n",
       "Bobonong             305\n",
       "Hukunsti             295\n",
       "Ngwaketse North      291\n",
       "Jwaneng              157\n",
       "Lethlakane           151\n",
       "Kgatleng             150\n",
       "Palapye              143\n",
       "Name: district, dtype: int64"
      ]
     },
     "execution_count": 372,
     "metadata": {},
     "output_type": "execute_result"
    }
   ],
   "source": [
    "patients_df['district'].value_counts(dropna=False)"
   ]
  },
  {
   "cell_type": "code",
   "execution_count": 373,
   "metadata": {},
   "outputs": [
    {
     "data": {
      "text/plain": [
       "North-West       16597\n",
       "Central          10860\n",
       "Gaborone          5051\n",
       "Chobe             4856\n",
       "Kgalagadi         2714\n",
       "Ghanzi            2145\n",
       "South-East        1651\n",
       "Francistown       1637\n",
       "unkown_reg        1634\n",
       "Selibe Phikwe      682\n",
       "North-East         564\n",
       "Kweneng            559\n",
       "Lobatse            452\n",
       "Southern           291\n",
       "Jwaneng            157\n",
       "Kgatleng           150\n",
       "Name: region, dtype: int64"
      ]
     },
     "execution_count": 373,
     "metadata": {},
     "output_type": "execute_result"
    }
   ],
   "source": [
    "patients_df['region'].value_counts(dropna=False)"
   ]
  },
  {
   "cell_type": "code",
   "execution_count": 374,
   "metadata": {},
   "outputs": [
    {
     "name": "stdout",
     "output_type": "stream",
     "text": [
      "<class 'pandas.core.frame.DataFrame'>\n",
      "Int64Index: 50000 entries, 1 to 50000\n",
      "Data columns (total 5 columns):\n",
      "fac_id      50000 non-null object\n",
      "dob         50000 non-null datetime64[ns]\n",
      "gender      50000 non-null object\n",
      "region      50000 non-null object\n",
      "district    50000 non-null object\n",
      "dtypes: datetime64[ns](1), object(4)\n",
      "memory usage: 2.3+ MB\n"
     ]
    }
   ],
   "source": [
    "patients_df.info()\n",
    "\n",
    "#missing entries all filled"
   ]
  },
  {
   "cell_type": "markdown",
   "metadata": {},
   "source": [
    "### Immunizations Data Table"
   ]
  },
  {
   "cell_type": "code",
   "execution_count": 375,
   "metadata": {},
   "outputs": [],
   "source": [
    "immun_df = pd.read_csv(\"immunization_db_v2.csv\")"
   ]
  },
  {
   "cell_type": "code",
   "execution_count": 376,
   "metadata": {},
   "outputs": [
    {
     "data": {
      "text/html": [
       "<div>\n",
       "<style scoped>\n",
       "    .dataframe tbody tr th:only-of-type {\n",
       "        vertical-align: middle;\n",
       "    }\n",
       "\n",
       "    .dataframe tbody tr th {\n",
       "        vertical-align: top;\n",
       "    }\n",
       "\n",
       "    .dataframe thead th {\n",
       "        text-align: right;\n",
       "    }\n",
       "</style>\n",
       "<table border=\"1\" class=\"dataframe\">\n",
       "  <thead>\n",
       "    <tr style=\"text-align: right;\">\n",
       "      <th></th>\n",
       "      <th>Unnamed: 0</th>\n",
       "      <th>pat_id</th>\n",
       "      <th>vaccine</th>\n",
       "      <th>im_date</th>\n",
       "      <th>successful</th>\n",
       "      <th>reason_unsuccesful</th>\n",
       "    </tr>\n",
       "  </thead>\n",
       "  <tbody>\n",
       "    <tr>\n",
       "      <th>count</th>\n",
       "      <td>276764.000000</td>\n",
       "      <td>276764.000000</td>\n",
       "      <td>276764</td>\n",
       "      <td>276764</td>\n",
       "      <td>276764</td>\n",
       "      <td>2899</td>\n",
       "    </tr>\n",
       "    <tr>\n",
       "      <th>unique</th>\n",
       "      <td>NaN</td>\n",
       "      <td>NaN</td>\n",
       "      <td>2</td>\n",
       "      <td>730</td>\n",
       "      <td>2</td>\n",
       "      <td>4</td>\n",
       "    </tr>\n",
       "    <tr>\n",
       "      <th>top</th>\n",
       "      <td>NaN</td>\n",
       "      <td>NaN</td>\n",
       "      <td>OPV</td>\n",
       "      <td>2018-12-14</td>\n",
       "      <td>True</td>\n",
       "      <td>StartedLate</td>\n",
       "    </tr>\n",
       "    <tr>\n",
       "      <th>freq</th>\n",
       "      <td>NaN</td>\n",
       "      <td>NaN</td>\n",
       "      <td>160792</td>\n",
       "      <td>522</td>\n",
       "      <td>273865</td>\n",
       "      <td>773</td>\n",
       "    </tr>\n",
       "    <tr>\n",
       "      <th>mean</th>\n",
       "      <td>152079.690867</td>\n",
       "      <td>25008.937206</td>\n",
       "      <td>NaN</td>\n",
       "      <td>NaN</td>\n",
       "      <td>NaN</td>\n",
       "      <td>NaN</td>\n",
       "    </tr>\n",
       "    <tr>\n",
       "      <th>std</th>\n",
       "      <td>88232.458771</td>\n",
       "      <td>14443.508649</td>\n",
       "      <td>NaN</td>\n",
       "      <td>NaN</td>\n",
       "      <td>NaN</td>\n",
       "      <td>NaN</td>\n",
       "    </tr>\n",
       "    <tr>\n",
       "      <th>min</th>\n",
       "      <td>0.000000</td>\n",
       "      <td>1.000000</td>\n",
       "      <td>NaN</td>\n",
       "      <td>NaN</td>\n",
       "      <td>NaN</td>\n",
       "      <td>NaN</td>\n",
       "    </tr>\n",
       "    <tr>\n",
       "      <th>25%</th>\n",
       "      <td>75363.750000</td>\n",
       "      <td>12492.750000</td>\n",
       "      <td>NaN</td>\n",
       "      <td>NaN</td>\n",
       "      <td>NaN</td>\n",
       "      <td>NaN</td>\n",
       "    </tr>\n",
       "    <tr>\n",
       "      <th>50%</th>\n",
       "      <td>151876.500000</td>\n",
       "      <td>25011.000000</td>\n",
       "      <td>NaN</td>\n",
       "      <td>NaN</td>\n",
       "      <td>NaN</td>\n",
       "      <td>NaN</td>\n",
       "    </tr>\n",
       "    <tr>\n",
       "      <th>75%</th>\n",
       "      <td>228391.250000</td>\n",
       "      <td>37511.000000</td>\n",
       "      <td>NaN</td>\n",
       "      <td>NaN</td>\n",
       "      <td>NaN</td>\n",
       "      <td>NaN</td>\n",
       "    </tr>\n",
       "    <tr>\n",
       "      <th>max</th>\n",
       "      <td>305578.000000</td>\n",
       "      <td>50000.000000</td>\n",
       "      <td>NaN</td>\n",
       "      <td>NaN</td>\n",
       "      <td>NaN</td>\n",
       "      <td>NaN</td>\n",
       "    </tr>\n",
       "  </tbody>\n",
       "</table>\n",
       "</div>"
      ],
      "text/plain": [
       "           Unnamed: 0         pat_id vaccine     im_date successful  \\\n",
       "count   276764.000000  276764.000000  276764      276764     276764   \n",
       "unique            NaN            NaN       2         730          2   \n",
       "top               NaN            NaN     OPV  2018-12-14       True   \n",
       "freq              NaN            NaN  160792         522     273865   \n",
       "mean    152079.690867   25008.937206     NaN         NaN        NaN   \n",
       "std      88232.458771   14443.508649     NaN         NaN        NaN   \n",
       "min          0.000000       1.000000     NaN         NaN        NaN   \n",
       "25%      75363.750000   12492.750000     NaN         NaN        NaN   \n",
       "50%     151876.500000   25011.000000     NaN         NaN        NaN   \n",
       "75%     228391.250000   37511.000000     NaN         NaN        NaN   \n",
       "max     305578.000000   50000.000000     NaN         NaN        NaN   \n",
       "\n",
       "       reason_unsuccesful  \n",
       "count                2899  \n",
       "unique                  4  \n",
       "top           StartedLate  \n",
       "freq                  773  \n",
       "mean                  NaN  \n",
       "std                   NaN  \n",
       "min                   NaN  \n",
       "25%                   NaN  \n",
       "50%                   NaN  \n",
       "75%                   NaN  \n",
       "max                   NaN  "
      ]
     },
     "execution_count": 376,
     "metadata": {},
     "output_type": "execute_result"
    }
   ],
   "source": [
    "immun_df.describe(include= 'all')"
   ]
  },
  {
   "cell_type": "code",
   "execution_count": 377,
   "metadata": {},
   "outputs": [
    {
     "name": "stdout",
     "output_type": "stream",
     "text": [
      "<class 'pandas.core.frame.DataFrame'>\n",
      "RangeIndex: 276764 entries, 0 to 276763\n",
      "Data columns (total 6 columns):\n",
      "Unnamed: 0            276764 non-null int64\n",
      "pat_id                276764 non-null int64\n",
      "vaccine               276764 non-null object\n",
      "im_date               276764 non-null object\n",
      "successful            276764 non-null bool\n",
      "reason_unsuccesful    2899 non-null object\n",
      "dtypes: bool(1), int64(2), object(3)\n",
      "memory usage: 10.8+ MB\n"
     ]
    }
   ],
   "source": [
    "immun_df.info()"
   ]
  },
  {
   "cell_type": "code",
   "execution_count": 378,
   "metadata": {},
   "outputs": [
    {
     "data": {
      "text/html": [
       "<div>\n",
       "<style scoped>\n",
       "    .dataframe tbody tr th:only-of-type {\n",
       "        vertical-align: middle;\n",
       "    }\n",
       "\n",
       "    .dataframe tbody tr th {\n",
       "        vertical-align: top;\n",
       "    }\n",
       "\n",
       "    .dataframe thead th {\n",
       "        text-align: right;\n",
       "    }\n",
       "</style>\n",
       "<table border=\"1\" class=\"dataframe\">\n",
       "  <thead>\n",
       "    <tr style=\"text-align: right;\">\n",
       "      <th></th>\n",
       "      <th>pat_id</th>\n",
       "      <th>vaccine</th>\n",
       "      <th>im_date</th>\n",
       "      <th>successful</th>\n",
       "      <th>reason_unsuccesful</th>\n",
       "    </tr>\n",
       "  </thead>\n",
       "  <tbody>\n",
       "    <tr>\n",
       "      <th>0</th>\n",
       "      <td>1</td>\n",
       "      <td>OPV</td>\n",
       "      <td>2019-01-31</td>\n",
       "      <td>True</td>\n",
       "      <td>NaN</td>\n",
       "    </tr>\n",
       "    <tr>\n",
       "      <th>1</th>\n",
       "      <td>2</td>\n",
       "      <td>OPV</td>\n",
       "      <td>2019-11-12</td>\n",
       "      <td>True</td>\n",
       "      <td>NaN</td>\n",
       "    </tr>\n",
       "    <tr>\n",
       "      <th>2</th>\n",
       "      <td>3</td>\n",
       "      <td>OPV</td>\n",
       "      <td>2019-11-03</td>\n",
       "      <td>True</td>\n",
       "      <td>NaN</td>\n",
       "    </tr>\n",
       "    <tr>\n",
       "      <th>3</th>\n",
       "      <td>4</td>\n",
       "      <td>OPV</td>\n",
       "      <td>2019-06-01</td>\n",
       "      <td>True</td>\n",
       "      <td>NaN</td>\n",
       "    </tr>\n",
       "    <tr>\n",
       "      <th>4</th>\n",
       "      <td>5</td>\n",
       "      <td>OPV</td>\n",
       "      <td>2018-12-24</td>\n",
       "      <td>True</td>\n",
       "      <td>NaN</td>\n",
       "    </tr>\n",
       "  </tbody>\n",
       "</table>\n",
       "</div>"
      ],
      "text/plain": [
       "   pat_id vaccine     im_date  successful reason_unsuccesful\n",
       "0       1     OPV  2019-01-31        True                NaN\n",
       "1       2     OPV  2019-11-12        True                NaN\n",
       "2       3     OPV  2019-11-03        True                NaN\n",
       "3       4     OPV  2019-06-01        True                NaN\n",
       "4       5     OPV  2018-12-24        True                NaN"
      ]
     },
     "execution_count": 378,
     "metadata": {},
     "output_type": "execute_result"
    }
   ],
   "source": [
    "#drop first column\n",
    "immun_df = immun_df.drop(columns = ['Unnamed: 0'])\n",
    "immun_df.head()"
   ]
  },
  {
   "cell_type": "code",
   "execution_count": 379,
   "metadata": {},
   "outputs": [
    {
     "data": {
      "text/plain": [
       "pat_id                     0\n",
       "vaccine                    0\n",
       "im_date                    0\n",
       "successful                 0\n",
       "reason_unsuccesful    273865\n",
       "dtype: int64"
      ]
     },
     "execution_count": 379,
     "metadata": {},
     "output_type": "execute_result"
    }
   ],
   "source": [
    "immun_df.isnull().sum()\n",
    "\n",
    "#only missing entries in one column"
   ]
  },
  {
   "cell_type": "code",
   "execution_count": 380,
   "metadata": {},
   "outputs": [
    {
     "data": {
      "text/plain": [
       "StartedLate              773\n",
       "Expired                  753\n",
       "OutOfStock               691\n",
       "ProfessionalJudgement    682\n",
       "Name: reason_unsuccesful, dtype: int64"
      ]
     },
     "execution_count": 380,
     "metadata": {},
     "output_type": "execute_result"
    }
   ],
   "source": [
    "immun_df['reason_unsuccesful'].value_counts()"
   ]
  },
  {
   "cell_type": "code",
   "execution_count": 381,
   "metadata": {},
   "outputs": [
    {
     "data": {
      "text/plain": [
       "pat_id                2899\n",
       "vaccine               2899\n",
       "im_date               2899\n",
       "successful            2899\n",
       "reason_unsuccesful    2899\n",
       "dtype: int64"
      ]
     },
     "execution_count": 381,
     "metadata": {},
     "output_type": "execute_result"
    }
   ],
   "source": [
    "# is 'reason_unsuccesful' null for all cases when succ is True?\n",
    "immun_df[immun_df['successful'] == False].count()\n",
    "\n",
    "# when not successful there are 2899 non null values in reason column (which is all the non null values there are) \n",
    "# therefore reason column is only null when succ is True"
   ]
  },
  {
   "cell_type": "code",
   "execution_count": 382,
   "metadata": {},
   "outputs": [
    {
     "data": {
      "text/plain": [
       "NA                       273865\n",
       "StartedLate                 773\n",
       "Expired                     753\n",
       "OutOfStock                  691\n",
       "ProfessionalJudgement       682\n",
       "Name: reason_unsuccesful, dtype: int64"
      ]
     },
     "execution_count": 382,
     "metadata": {},
     "output_type": "execute_result"
    }
   ],
   "source": [
    "# fill missing values for 'reason_unsuccesful'\n",
    "immun_df['reason_unsuccesful'] = immun_df['reason_unsuccesful'].fillna(\"NA\")\n",
    "immun_df['reason_unsuccesful'].value_counts()"
   ]
  },
  {
   "cell_type": "code",
   "execution_count": 383,
   "metadata": {},
   "outputs": [
    {
     "data": {
      "text/plain": [
       "OPV    160792\n",
       "DTP    115972\n",
       "Name: vaccine, dtype: int64"
      ]
     },
     "execution_count": 383,
     "metadata": {},
     "output_type": "execute_result"
    }
   ],
   "source": [
    "immun_df['vaccine'].value_counts()"
   ]
  },
  {
   "cell_type": "code",
   "execution_count": 384,
   "metadata": {},
   "outputs": [
    {
     "data": {
      "text/plain": [
       "True     273865\n",
       "False      2899\n",
       "Name: successful, dtype: int64"
      ]
     },
     "execution_count": 384,
     "metadata": {},
     "output_type": "execute_result"
    }
   ],
   "source": [
    "immun_df['successful'].value_counts()"
   ]
  },
  {
   "cell_type": "code",
   "execution_count": 385,
   "metadata": {},
   "outputs": [
    {
     "data": {
      "text/plain": [
       "count                  276764\n",
       "unique                    730\n",
       "top       2018-12-14 00:00:00\n",
       "freq                      522\n",
       "first     2018-01-01 00:00:00\n",
       "last      2019-12-31 00:00:00\n",
       "Name: im_date, dtype: object"
      ]
     },
     "execution_count": 385,
     "metadata": {},
     "output_type": "execute_result"
    }
   ],
   "source": [
    "# convert the date to a date object\n",
    "immun_df['im_date']=pd.to_datetime(immun_df['im_date'], format='%Y-%m-%d')\n",
    "immun_df['im_date'].describe()"
   ]
  },
  {
   "cell_type": "code",
   "execution_count": 386,
   "metadata": {},
   "outputs": [
    {
     "name": "stdout",
     "output_type": "stream",
     "text": [
      "<class 'pandas.core.frame.DataFrame'>\n",
      "RangeIndex: 276764 entries, 0 to 276763\n",
      "Data columns (total 5 columns):\n",
      "pat_id                276764 non-null int64\n",
      "vaccine               276764 non-null object\n",
      "im_date               276764 non-null datetime64[ns]\n",
      "successful            276764 non-null bool\n",
      "reason_unsuccesful    276764 non-null object\n",
      "dtypes: bool(1), datetime64[ns](1), int64(1), object(2)\n",
      "memory usage: 8.7+ MB\n"
     ]
    }
   ],
   "source": [
    "immun_df.info()"
   ]
  },
  {
   "cell_type": "code",
   "execution_count": 43,
   "metadata": {
    "collapsed": true,
    "jupyter": {
     "outputs_hidden": true
    }
   },
   "outputs": [
    {
     "data": {
      "text/plain": [
       "42603    7\n",
       "17562    7\n",
       "40065    7\n",
       "35971    7\n",
       "46212    7\n",
       "32823    7\n",
       "36917    7\n",
       "38964    7\n",
       "15509    7\n",
       "9366     7\n",
       "18478    7\n",
       "23705    7\n",
       "29852    7\n",
       "14624    7\n",
       "25758    7\n",
       "27807    7\n",
       "38272    7\n",
       "34178    7\n",
       "36227    7\n",
       "44423    7\n",
       "7569     7\n",
       "26666    7\n",
       "28713    7\n",
       "9622     7\n",
       "27551    7\n",
       "31645    7\n",
       "24875    7\n",
       "33666    7\n",
       "49802    7\n",
       "6801     7\n",
       "        ..\n",
       "16744    1\n",
       "12506    1\n",
       "33723    1\n",
       "30165    1\n",
       "26643    1\n",
       "16154    1\n",
       "21845    1\n",
       "47037    1\n",
       "43866    1\n",
       "6057     1\n",
       "32676    1\n",
       "7516     1\n",
       "42687    1\n",
       "3802     1\n",
       "1755     1\n",
       "24594    1\n",
       "40904    1\n",
       "23712    1\n",
       "34235    1\n",
       "2079     1\n",
       "21921    1\n",
       "36026    1\n",
       "24833    1\n",
       "18007    1\n",
       "41160    1\n",
       "47919    1\n",
       "35021    1\n",
       "39119    1\n",
       "26899    1\n",
       "39849    1\n",
       "Name: pat_id, Length: 48843, dtype: int64"
      ]
     },
     "execution_count": 43,
     "metadata": {},
     "output_type": "execute_result"
    }
   ],
   "source": [
    "# how many records per pat_id?\n",
    "immun_df.pat_id.value_counts()"
   ]
  },
  {
   "cell_type": "code",
   "execution_count": 44,
   "metadata": {
    "collapsed": true,
    "jupyter": {
     "outputs_hidden": true
    }
   },
   "outputs": [
    {
     "data": {
      "text/plain": [
       "24583    2\n",
       "48015    2\n",
       "37529    2\n",
       "43670    2\n",
       "35476    2\n",
       "35474    2\n",
       "37311    2\n",
       "31372    2\n",
       "23178    2\n",
       "29606    2\n",
       "645      2\n",
       "2688     2\n",
       "23465    2\n",
       "17330    2\n",
       "8581     2\n",
       "21432    2\n",
       "31336    2\n",
       "37479    2\n",
       "16997    2\n",
       "41571    2\n",
       "27232    2\n",
       "14942    2\n",
       "49757    2\n",
       "39514    2\n",
       "35775    2\n",
       "37778    2\n",
       "12971    2\n",
       "48075    2\n",
       "9102     2\n",
       "9917     2\n",
       "        ..\n",
       "8693     1\n",
       "4519     1\n",
       "14758    1\n",
       "419      1\n",
       "32712    1\n",
       "6510     1\n",
       "12655    1\n",
       "6512     1\n",
       "17750    1\n",
       "45427    1\n",
       "2420     1\n",
       "21729    1\n",
       "27002    1\n",
       "29051    1\n",
       "27006    1\n",
       "10381    1\n",
       "37253    1\n",
       "49569    1\n",
       "24272    1\n",
       "37255    1\n",
       "31116    1\n",
       "24973    1\n",
       "39310    1\n",
       "45035    1\n",
       "2452     1\n",
       "48909    1\n",
       "46169    1\n",
       "20893    1\n",
       "2464     1\n",
       "45058    1\n",
       "Name: pat_id, Length: 2226, dtype: int64"
      ]
     },
     "execution_count": 44,
     "metadata": {},
     "output_type": "execute_result"
    }
   ],
   "source": [
    "# see how many unsuccesful vaccinations by patient id\n",
    "immun_df.loc[immun_df['successful']==False].pat_id.value_counts()"
   ]
  },
  {
   "cell_type": "code",
   "execution_count": 387,
   "metadata": {},
   "outputs": [
    {
     "data": {
      "text/html": [
       "<div>\n",
       "<style scoped>\n",
       "    .dataframe tbody tr th:only-of-type {\n",
       "        vertical-align: middle;\n",
       "    }\n",
       "\n",
       "    .dataframe tbody tr th {\n",
       "        vertical-align: top;\n",
       "    }\n",
       "\n",
       "    .dataframe thead th {\n",
       "        text-align: right;\n",
       "    }\n",
       "</style>\n",
       "<table border=\"1\" class=\"dataframe\">\n",
       "  <thead>\n",
       "    <tr style=\"text-align: right;\">\n",
       "      <th></th>\n",
       "      <th>pat_id</th>\n",
       "      <th>vaccine</th>\n",
       "      <th>im_date</th>\n",
       "      <th>successful</th>\n",
       "      <th>reason_unsuccesful</th>\n",
       "    </tr>\n",
       "  </thead>\n",
       "  <tbody>\n",
       "    <tr>\n",
       "      <th>210740</th>\n",
       "      <td>10683</td>\n",
       "      <td>DTP</td>\n",
       "      <td>2018-07-04</td>\n",
       "      <td>True</td>\n",
       "      <td>NA</td>\n",
       "    </tr>\n",
       "  </tbody>\n",
       "</table>\n",
       "</div>"
      ],
      "text/plain": [
       "        pat_id vaccine    im_date  successful reason_unsuccesful\n",
       "210740   10683     DTP 2018-07-04        True                 NA"
      ]
     },
     "execution_count": 387,
     "metadata": {},
     "output_type": "execute_result"
    }
   ],
   "source": [
    "# check if duplicate records\n",
    "\n",
    "immun_df[immun_df.duplicated()]"
   ]
  },
  {
   "cell_type": "code",
   "execution_count": 388,
   "metadata": {},
   "outputs": [
    {
     "data": {
      "text/html": [
       "<div>\n",
       "<style scoped>\n",
       "    .dataframe tbody tr th:only-of-type {\n",
       "        vertical-align: middle;\n",
       "    }\n",
       "\n",
       "    .dataframe tbody tr th {\n",
       "        vertical-align: top;\n",
       "    }\n",
       "\n",
       "    .dataframe thead th {\n",
       "        text-align: right;\n",
       "    }\n",
       "</style>\n",
       "<table border=\"1\" class=\"dataframe\">\n",
       "  <thead>\n",
       "    <tr style=\"text-align: right;\">\n",
       "      <th></th>\n",
       "      <th>pat_id</th>\n",
       "      <th>vaccine</th>\n",
       "      <th>im_date</th>\n",
       "      <th>successful</th>\n",
       "      <th>reason_unsuccesful</th>\n",
       "    </tr>\n",
       "  </thead>\n",
       "  <tbody>\n",
       "  </tbody>\n",
       "</table>\n",
       "</div>"
      ],
      "text/plain": [
       "Empty DataFrame\n",
       "Columns: [pat_id, vaccine, im_date, successful, reason_unsuccesful]\n",
       "Index: []"
      ]
     },
     "execution_count": 388,
     "metadata": {},
     "output_type": "execute_result"
    }
   ],
   "source": [
    "immun_df = immun_df.drop(index=210740, axis = 0 )\n",
    "immun_df[immun_df.duplicated()]"
   ]
  },
  {
   "cell_type": "code",
   "execution_count": 389,
   "metadata": {},
   "outputs": [
    {
     "data": {
      "text/html": [
       "<div>\n",
       "<style scoped>\n",
       "    .dataframe tbody tr th:only-of-type {\n",
       "        vertical-align: middle;\n",
       "    }\n",
       "\n",
       "    .dataframe tbody tr th {\n",
       "        vertical-align: top;\n",
       "    }\n",
       "\n",
       "    .dataframe thead th {\n",
       "        text-align: right;\n",
       "    }\n",
       "</style>\n",
       "<table border=\"1\" class=\"dataframe\">\n",
       "  <thead>\n",
       "    <tr style=\"text-align: right;\">\n",
       "      <th></th>\n",
       "      <th>pat_id</th>\n",
       "      <th>vaccine</th>\n",
       "      <th>im_date</th>\n",
       "      <th>successful</th>\n",
       "      <th>reason_unsuccesful</th>\n",
       "    </tr>\n",
       "  </thead>\n",
       "  <tbody>\n",
       "    <tr>\n",
       "      <th>9599</th>\n",
       "      <td>10683</td>\n",
       "      <td>OPV</td>\n",
       "      <td>2018-03-16</td>\n",
       "      <td>True</td>\n",
       "      <td>NA</td>\n",
       "    </tr>\n",
       "    <tr>\n",
       "      <th>54020</th>\n",
       "      <td>10683</td>\n",
       "      <td>OPV</td>\n",
       "      <td>2018-06-05</td>\n",
       "      <td>True</td>\n",
       "      <td>NA</td>\n",
       "    </tr>\n",
       "    <tr>\n",
       "      <th>132973</th>\n",
       "      <td>10683</td>\n",
       "      <td>OPV</td>\n",
       "      <td>2018-08-02</td>\n",
       "      <td>True</td>\n",
       "      <td>NA</td>\n",
       "    </tr>\n",
       "    <tr>\n",
       "      <th>169694</th>\n",
       "      <td>10683</td>\n",
       "      <td>DTP</td>\n",
       "      <td>2018-07-04</td>\n",
       "      <td>True</td>\n",
       "      <td>NA</td>\n",
       "    </tr>\n",
       "    <tr>\n",
       "      <th>248852</th>\n",
       "      <td>10683</td>\n",
       "      <td>DTP</td>\n",
       "      <td>2018-07-23</td>\n",
       "      <td>True</td>\n",
       "      <td>NA</td>\n",
       "    </tr>\n",
       "  </tbody>\n",
       "</table>\n",
       "</div>"
      ],
      "text/plain": [
       "        pat_id vaccine    im_date  successful reason_unsuccesful\n",
       "9599     10683     OPV 2018-03-16        True                 NA\n",
       "54020    10683     OPV 2018-06-05        True                 NA\n",
       "132973   10683     OPV 2018-08-02        True                 NA\n",
       "169694   10683     DTP 2018-07-04        True                 NA\n",
       "248852   10683     DTP 2018-07-23        True                 NA"
      ]
     },
     "execution_count": 389,
     "metadata": {},
     "output_type": "execute_result"
    }
   ],
   "source": [
    "immun_df.loc[immun_df['pat_id']==10683]"
   ]
  },
  {
   "cell_type": "code",
   "execution_count": 390,
   "metadata": {},
   "outputs": [
    {
     "data": {
      "text/plain": [
       "NA                       273864\n",
       "StartedLate                 773\n",
       "Expired                     753\n",
       "OutOfStock                  691\n",
       "ProfessionalJudgement       682\n",
       "Name: reason_unsuccesful, dtype: int64"
      ]
     },
     "execution_count": 390,
     "metadata": {},
     "output_type": "execute_result"
    }
   ],
   "source": [
    "# drop the patients who had unsuccesful vaccinations due to 'Profesional Judgement'\n",
    "\n",
    "immun_df['reason_unsuccesful'].value_counts()"
   ]
  },
  {
   "cell_type": "code",
   "execution_count": 391,
   "metadata": {},
   "outputs": [
    {
     "data": {
      "text/html": [
       "<div>\n",
       "<style scoped>\n",
       "    .dataframe tbody tr th:only-of-type {\n",
       "        vertical-align: middle;\n",
       "    }\n",
       "\n",
       "    .dataframe tbody tr th {\n",
       "        vertical-align: top;\n",
       "    }\n",
       "\n",
       "    .dataframe thead th {\n",
       "        text-align: right;\n",
       "    }\n",
       "</style>\n",
       "<table border=\"1\" class=\"dataframe\">\n",
       "  <thead>\n",
       "    <tr style=\"text-align: right;\">\n",
       "      <th></th>\n",
       "      <th>0</th>\n",
       "    </tr>\n",
       "    <tr>\n",
       "      <th>pat_id</th>\n",
       "      <th></th>\n",
       "    </tr>\n",
       "  </thead>\n",
       "  <tbody>\n",
       "    <tr>\n",
       "      <th>178</th>\n",
       "      <td>1</td>\n",
       "    </tr>\n",
       "    <tr>\n",
       "      <th>192</th>\n",
       "      <td>1</td>\n",
       "    </tr>\n",
       "    <tr>\n",
       "      <th>323</th>\n",
       "      <td>1</td>\n",
       "    </tr>\n",
       "    <tr>\n",
       "      <th>528</th>\n",
       "      <td>1</td>\n",
       "    </tr>\n",
       "    <tr>\n",
       "      <th>558</th>\n",
       "      <td>1</td>\n",
       "    </tr>\n",
       "  </tbody>\n",
       "</table>\n",
       "</div>"
      ],
      "text/plain": [
       "        0\n",
       "pat_id   \n",
       "178     1\n",
       "192     1\n",
       "323     1\n",
       "528     1\n",
       "558     1"
      ]
     },
     "execution_count": 391,
     "metadata": {},
     "output_type": "execute_result"
    }
   ],
   "source": [
    "# patient ids to remove from immun table\n",
    "\n",
    "drop_pats = immun_df[immun_df['reason_unsuccesful'] == 'ProfessionalJudgement'].groupby('pat_id').size().to_frame()\n",
    "drop_pats.head()"
   ]
  },
  {
   "cell_type": "code",
   "execution_count": 392,
   "metadata": {},
   "outputs": [
    {
     "data": {
      "text/html": [
       "<div>\n",
       "<style scoped>\n",
       "    .dataframe tbody tr th:only-of-type {\n",
       "        vertical-align: middle;\n",
       "    }\n",
       "\n",
       "    .dataframe tbody tr th {\n",
       "        vertical-align: top;\n",
       "    }\n",
       "\n",
       "    .dataframe thead th {\n",
       "        text-align: right;\n",
       "    }\n",
       "</style>\n",
       "<table border=\"1\" class=\"dataframe\">\n",
       "  <thead>\n",
       "    <tr style=\"text-align: right;\">\n",
       "      <th></th>\n",
       "      <th>pat_id</th>\n",
       "      <th>0</th>\n",
       "    </tr>\n",
       "  </thead>\n",
       "  <tbody>\n",
       "    <tr>\n",
       "      <th>0</th>\n",
       "      <td>178</td>\n",
       "      <td>1</td>\n",
       "    </tr>\n",
       "    <tr>\n",
       "      <th>1</th>\n",
       "      <td>192</td>\n",
       "      <td>1</td>\n",
       "    </tr>\n",
       "  </tbody>\n",
       "</table>\n",
       "</div>"
      ],
      "text/plain": [
       "   pat_id  0\n",
       "0     178  1\n",
       "1     192  1"
      ]
     },
     "execution_count": 392,
     "metadata": {},
     "output_type": "execute_result"
    }
   ],
   "source": [
    "drop_pats = drop_pats.reset_index()\n",
    "drop_pats.head(2)"
   ]
  },
  {
   "cell_type": "code",
   "execution_count": 393,
   "metadata": {},
   "outputs": [
    {
     "data": {
      "text/plain": [
       "NA             271401\n",
       "StartedLate       693\n",
       "Expired           670\n",
       "OutOfStock        610\n",
       "Name: reason_unsuccesful, dtype: int64"
      ]
     },
     "execution_count": 393,
     "metadata": {},
     "output_type": "execute_result"
    }
   ],
   "source": [
    "#immune table without patients who had unsuccesful vaccinations due to 'Profesional Judgement'\n",
    "\n",
    "immun_df = immun_df[~immun_df.pat_id.isin(drop_pats.pat_id)]\n",
    "immun_df.reason_unsuccesful.value_counts()"
   ]
  },
  {
   "cell_type": "markdown",
   "metadata": {},
   "source": [
    "#### combined table with patients and immunization info"
   ]
  },
  {
   "cell_type": "code",
   "execution_count": 394,
   "metadata": {},
   "outputs": [
    {
     "data": {
      "text/html": [
       "<div>\n",
       "<style scoped>\n",
       "    .dataframe tbody tr th:only-of-type {\n",
       "        vertical-align: middle;\n",
       "    }\n",
       "\n",
       "    .dataframe tbody tr th {\n",
       "        vertical-align: top;\n",
       "    }\n",
       "\n",
       "    .dataframe thead th {\n",
       "        text-align: right;\n",
       "    }\n",
       "</style>\n",
       "<table border=\"1\" class=\"dataframe\">\n",
       "  <thead>\n",
       "    <tr style=\"text-align: right;\">\n",
       "      <th></th>\n",
       "      <th>pat_id</th>\n",
       "      <th>vaccine</th>\n",
       "      <th>im_date</th>\n",
       "      <th>successful</th>\n",
       "      <th>reason_unsuccesful</th>\n",
       "      <th>fac_id</th>\n",
       "      <th>dob</th>\n",
       "      <th>gender</th>\n",
       "      <th>region</th>\n",
       "      <th>district</th>\n",
       "    </tr>\n",
       "  </thead>\n",
       "  <tbody>\n",
       "    <tr>\n",
       "      <th>0</th>\n",
       "      <td>1</td>\n",
       "      <td>OPV</td>\n",
       "      <td>2019-01-31</td>\n",
       "      <td>True</td>\n",
       "      <td>NA</td>\n",
       "      <td>51</td>\n",
       "      <td>2019-01-22</td>\n",
       "      <td>f</td>\n",
       "      <td>Ghanzi</td>\n",
       "      <td>Ghanzi</td>\n",
       "    </tr>\n",
       "    <tr>\n",
       "      <th>1</th>\n",
       "      <td>1</td>\n",
       "      <td>OPV</td>\n",
       "      <td>2019-04-03</td>\n",
       "      <td>True</td>\n",
       "      <td>NA</td>\n",
       "      <td>51</td>\n",
       "      <td>2019-01-22</td>\n",
       "      <td>f</td>\n",
       "      <td>Ghanzi</td>\n",
       "      <td>Ghanzi</td>\n",
       "    </tr>\n",
       "    <tr>\n",
       "      <th>2</th>\n",
       "      <td>1</td>\n",
       "      <td>OPV</td>\n",
       "      <td>2019-05-25</td>\n",
       "      <td>True</td>\n",
       "      <td>NA</td>\n",
       "      <td>51</td>\n",
       "      <td>2019-01-22</td>\n",
       "      <td>f</td>\n",
       "      <td>Ghanzi</td>\n",
       "      <td>Ghanzi</td>\n",
       "    </tr>\n",
       "    <tr>\n",
       "      <th>3</th>\n",
       "      <td>1</td>\n",
       "      <td>OPV</td>\n",
       "      <td>2019-07-06</td>\n",
       "      <td>True</td>\n",
       "      <td>NA</td>\n",
       "      <td>51</td>\n",
       "      <td>2019-01-22</td>\n",
       "      <td>f</td>\n",
       "      <td>Ghanzi</td>\n",
       "      <td>Ghanzi</td>\n",
       "    </tr>\n",
       "    <tr>\n",
       "      <th>4</th>\n",
       "      <td>1</td>\n",
       "      <td>DTP</td>\n",
       "      <td>2019-04-03</td>\n",
       "      <td>True</td>\n",
       "      <td>NA</td>\n",
       "      <td>51</td>\n",
       "      <td>2019-01-22</td>\n",
       "      <td>f</td>\n",
       "      <td>Ghanzi</td>\n",
       "      <td>Ghanzi</td>\n",
       "    </tr>\n",
       "  </tbody>\n",
       "</table>\n",
       "</div>"
      ],
      "text/plain": [
       "   pat_id vaccine    im_date  successful reason_unsuccesful fac_id        dob  \\\n",
       "0       1     OPV 2019-01-31        True                 NA     51 2019-01-22   \n",
       "1       1     OPV 2019-04-03        True                 NA     51 2019-01-22   \n",
       "2       1     OPV 2019-05-25        True                 NA     51 2019-01-22   \n",
       "3       1     OPV 2019-07-06        True                 NA     51 2019-01-22   \n",
       "4       1     DTP 2019-04-03        True                 NA     51 2019-01-22   \n",
       "\n",
       "  gender  region district  \n",
       "0      f  Ghanzi   Ghanzi  \n",
       "1      f  Ghanzi   Ghanzi  \n",
       "2      f  Ghanzi   Ghanzi  \n",
       "3      f  Ghanzi   Ghanzi  \n",
       "4      f  Ghanzi   Ghanzi  "
      ]
     },
     "execution_count": 394,
     "metadata": {},
     "output_type": "execute_result"
    }
   ],
   "source": [
    "combin_df = immun_df.merge(patients_df, on= 'pat_id')\n",
    "combin_df.head(5)\n",
    "\n",
    "# x is immmun df\n",
    "# y is patients df"
   ]
  },
  {
   "cell_type": "code",
   "execution_count": 395,
   "metadata": {},
   "outputs": [
    {
     "name": "stdout",
     "output_type": "stream",
     "text": [
      "<class 'pandas.core.frame.DataFrame'>\n",
      "Int64Index: 273374 entries, 0 to 273373\n",
      "Data columns (total 10 columns):\n",
      "pat_id                273374 non-null int64\n",
      "vaccine               273374 non-null object\n",
      "im_date               273374 non-null datetime64[ns]\n",
      "successful            273374 non-null bool\n",
      "reason_unsuccesful    273374 non-null object\n",
      "fac_id                273374 non-null object\n",
      "dob                   273374 non-null datetime64[ns]\n",
      "gender                273374 non-null object\n",
      "region                273374 non-null object\n",
      "district              273374 non-null object\n",
      "dtypes: bool(1), datetime64[ns](2), int64(1), object(6)\n",
      "memory usage: 21.1+ MB\n"
     ]
    }
   ],
   "source": [
    "combin_df.info()"
   ]
  },
  {
   "cell_type": "code",
   "execution_count": 396,
   "metadata": {},
   "outputs": [],
   "source": [
    "# create an extra column - days_aftr_dob\n",
    "combin_df['days_aftr_dob'] = (combin_df.im_date - combin_df.dob).dt.days"
   ]
  },
  {
   "cell_type": "code",
   "execution_count": 397,
   "metadata": {},
   "outputs": [
    {
     "data": {
      "text/html": [
       "<div>\n",
       "<style scoped>\n",
       "    .dataframe tbody tr th:only-of-type {\n",
       "        vertical-align: middle;\n",
       "    }\n",
       "\n",
       "    .dataframe tbody tr th {\n",
       "        vertical-align: top;\n",
       "    }\n",
       "\n",
       "    .dataframe thead th {\n",
       "        text-align: right;\n",
       "    }\n",
       "</style>\n",
       "<table border=\"1\" class=\"dataframe\">\n",
       "  <thead>\n",
       "    <tr style=\"text-align: right;\">\n",
       "      <th></th>\n",
       "      <th>pat_id</th>\n",
       "      <th>vaccine</th>\n",
       "      <th>im_date</th>\n",
       "      <th>successful</th>\n",
       "      <th>reason_unsuccesful</th>\n",
       "      <th>fac_id</th>\n",
       "      <th>dob</th>\n",
       "      <th>gender</th>\n",
       "      <th>region</th>\n",
       "      <th>district</th>\n",
       "      <th>days_aftr_dob</th>\n",
       "    </tr>\n",
       "  </thead>\n",
       "  <tbody>\n",
       "    <tr>\n",
       "      <th>0</th>\n",
       "      <td>1</td>\n",
       "      <td>OPV</td>\n",
       "      <td>2019-01-31</td>\n",
       "      <td>True</td>\n",
       "      <td>NA</td>\n",
       "      <td>51</td>\n",
       "      <td>2019-01-22</td>\n",
       "      <td>f</td>\n",
       "      <td>Ghanzi</td>\n",
       "      <td>Ghanzi</td>\n",
       "      <td>9</td>\n",
       "    </tr>\n",
       "    <tr>\n",
       "      <th>1</th>\n",
       "      <td>1</td>\n",
       "      <td>OPV</td>\n",
       "      <td>2019-04-03</td>\n",
       "      <td>True</td>\n",
       "      <td>NA</td>\n",
       "      <td>51</td>\n",
       "      <td>2019-01-22</td>\n",
       "      <td>f</td>\n",
       "      <td>Ghanzi</td>\n",
       "      <td>Ghanzi</td>\n",
       "      <td>71</td>\n",
       "    </tr>\n",
       "  </tbody>\n",
       "</table>\n",
       "</div>"
      ],
      "text/plain": [
       "   pat_id vaccine    im_date  successful reason_unsuccesful fac_id        dob  \\\n",
       "0       1     OPV 2019-01-31        True                 NA     51 2019-01-22   \n",
       "1       1     OPV 2019-04-03        True                 NA     51 2019-01-22   \n",
       "\n",
       "  gender  region district  days_aftr_dob  \n",
       "0      f  Ghanzi   Ghanzi              9  \n",
       "1      f  Ghanzi   Ghanzi             71  "
      ]
     },
     "execution_count": 397,
     "metadata": {},
     "output_type": "execute_result"
    }
   ],
   "source": [
    "combin_df.head(2)"
   ]
  },
  {
   "cell_type": "code",
   "execution_count": 398,
   "metadata": {},
   "outputs": [
    {
     "data": {
      "text/html": [
       "<div>\n",
       "<style scoped>\n",
       "    .dataframe tbody tr th:only-of-type {\n",
       "        vertical-align: middle;\n",
       "    }\n",
       "\n",
       "    .dataframe tbody tr th {\n",
       "        vertical-align: top;\n",
       "    }\n",
       "\n",
       "    .dataframe thead th {\n",
       "        text-align: right;\n",
       "    }\n",
       "</style>\n",
       "<table border=\"1\" class=\"dataframe\">\n",
       "  <thead>\n",
       "    <tr style=\"text-align: right;\">\n",
       "      <th></th>\n",
       "      <th>pat_id</th>\n",
       "      <th>vaccine</th>\n",
       "      <th>im_date</th>\n",
       "      <th>successful</th>\n",
       "      <th>reason_unsuccesful</th>\n",
       "      <th>fac_id</th>\n",
       "      <th>dob</th>\n",
       "      <th>gender</th>\n",
       "      <th>region</th>\n",
       "      <th>district</th>\n",
       "      <th>days_aftr_dob</th>\n",
       "    </tr>\n",
       "  </thead>\n",
       "  <tbody>\n",
       "    <tr>\n",
       "      <th>54550</th>\n",
       "      <td>10683</td>\n",
       "      <td>OPV</td>\n",
       "      <td>2018-03-16</td>\n",
       "      <td>True</td>\n",
       "      <td>NA</td>\n",
       "      <td>277</td>\n",
       "      <td>2018-03-16</td>\n",
       "      <td>m</td>\n",
       "      <td>unkown_reg</td>\n",
       "      <td>unkown_dis</td>\n",
       "      <td>0</td>\n",
       "    </tr>\n",
       "    <tr>\n",
       "      <th>54551</th>\n",
       "      <td>10683</td>\n",
       "      <td>OPV</td>\n",
       "      <td>2018-06-05</td>\n",
       "      <td>True</td>\n",
       "      <td>NA</td>\n",
       "      <td>277</td>\n",
       "      <td>2018-03-16</td>\n",
       "      <td>m</td>\n",
       "      <td>unkown_reg</td>\n",
       "      <td>unkown_dis</td>\n",
       "      <td>81</td>\n",
       "    </tr>\n",
       "    <tr>\n",
       "      <th>54552</th>\n",
       "      <td>10683</td>\n",
       "      <td>OPV</td>\n",
       "      <td>2018-08-02</td>\n",
       "      <td>True</td>\n",
       "      <td>NA</td>\n",
       "      <td>277</td>\n",
       "      <td>2018-03-16</td>\n",
       "      <td>m</td>\n",
       "      <td>unkown_reg</td>\n",
       "      <td>unkown_dis</td>\n",
       "      <td>139</td>\n",
       "    </tr>\n",
       "    <tr>\n",
       "      <th>54553</th>\n",
       "      <td>10683</td>\n",
       "      <td>DTP</td>\n",
       "      <td>2018-07-04</td>\n",
       "      <td>True</td>\n",
       "      <td>NA</td>\n",
       "      <td>277</td>\n",
       "      <td>2018-03-16</td>\n",
       "      <td>m</td>\n",
       "      <td>unkown_reg</td>\n",
       "      <td>unkown_dis</td>\n",
       "      <td>110</td>\n",
       "    </tr>\n",
       "    <tr>\n",
       "      <th>54554</th>\n",
       "      <td>10683</td>\n",
       "      <td>DTP</td>\n",
       "      <td>2018-07-23</td>\n",
       "      <td>True</td>\n",
       "      <td>NA</td>\n",
       "      <td>277</td>\n",
       "      <td>2018-03-16</td>\n",
       "      <td>m</td>\n",
       "      <td>unkown_reg</td>\n",
       "      <td>unkown_dis</td>\n",
       "      <td>129</td>\n",
       "    </tr>\n",
       "  </tbody>\n",
       "</table>\n",
       "</div>"
      ],
      "text/plain": [
       "       pat_id vaccine    im_date  successful reason_unsuccesful fac_id  \\\n",
       "54550   10683     OPV 2018-03-16        True                 NA    277   \n",
       "54551   10683     OPV 2018-06-05        True                 NA    277   \n",
       "54552   10683     OPV 2018-08-02        True                 NA    277   \n",
       "54553   10683     DTP 2018-07-04        True                 NA    277   \n",
       "54554   10683     DTP 2018-07-23        True                 NA    277   \n",
       "\n",
       "             dob gender      region    district  days_aftr_dob  \n",
       "54550 2018-03-16      m  unkown_reg  unkown_dis              0  \n",
       "54551 2018-03-16      m  unkown_reg  unkown_dis             81  \n",
       "54552 2018-03-16      m  unkown_reg  unkown_dis            139  \n",
       "54553 2018-03-16      m  unkown_reg  unkown_dis            110  \n",
       "54554 2018-03-16      m  unkown_reg  unkown_dis            129  "
      ]
     },
     "execution_count": 398,
     "metadata": {},
     "output_type": "execute_result"
    }
   ],
   "source": [
    "#sample a random patient\n",
    "\n",
    "combin_df.loc[combin_df['pat_id']==10683]"
   ]
  },
  {
   "cell_type": "markdown",
   "metadata": {},
   "source": [
    "##### create target label y"
   ]
  },
  {
   "cell_type": "code",
   "execution_count": 399,
   "metadata": {},
   "outputs": [
    {
     "data": {
      "text/html": [
       "<div>\n",
       "<style scoped>\n",
       "    .dataframe tbody tr th:only-of-type {\n",
       "        vertical-align: middle;\n",
       "    }\n",
       "\n",
       "    .dataframe tbody tr th {\n",
       "        vertical-align: top;\n",
       "    }\n",
       "\n",
       "    .dataframe thead th {\n",
       "        text-align: right;\n",
       "    }\n",
       "</style>\n",
       "<table border=\"1\" class=\"dataframe\">\n",
       "  <thead>\n",
       "    <tr style=\"text-align: right;\">\n",
       "      <th></th>\n",
       "      <th>pat_id</th>\n",
       "      <th>vaccine</th>\n",
       "      <th>im_date</th>\n",
       "      <th>successful</th>\n",
       "      <th>reason_unsuccesful</th>\n",
       "      <th>fac_id</th>\n",
       "      <th>dob</th>\n",
       "      <th>gender</th>\n",
       "      <th>region</th>\n",
       "      <th>district</th>\n",
       "      <th>days_aftr_dob</th>\n",
       "    </tr>\n",
       "  </thead>\n",
       "  <tbody>\n",
       "    <tr>\n",
       "      <th>54550</th>\n",
       "      <td>10683</td>\n",
       "      <td>OPV</td>\n",
       "      <td>2018-03-16</td>\n",
       "      <td>True</td>\n",
       "      <td>NA</td>\n",
       "      <td>277</td>\n",
       "      <td>2018-03-16</td>\n",
       "      <td>m</td>\n",
       "      <td>unkown_reg</td>\n",
       "      <td>unkown_dis</td>\n",
       "      <td>0</td>\n",
       "    </tr>\n",
       "    <tr>\n",
       "      <th>54551</th>\n",
       "      <td>10683</td>\n",
       "      <td>OPV</td>\n",
       "      <td>2018-06-05</td>\n",
       "      <td>True</td>\n",
       "      <td>NA</td>\n",
       "      <td>277</td>\n",
       "      <td>2018-03-16</td>\n",
       "      <td>m</td>\n",
       "      <td>unkown_reg</td>\n",
       "      <td>unkown_dis</td>\n",
       "      <td>81</td>\n",
       "    </tr>\n",
       "    <tr>\n",
       "      <th>54552</th>\n",
       "      <td>10683</td>\n",
       "      <td>OPV</td>\n",
       "      <td>2018-08-02</td>\n",
       "      <td>True</td>\n",
       "      <td>NA</td>\n",
       "      <td>277</td>\n",
       "      <td>2018-03-16</td>\n",
       "      <td>m</td>\n",
       "      <td>unkown_reg</td>\n",
       "      <td>unkown_dis</td>\n",
       "      <td>139</td>\n",
       "    </tr>\n",
       "    <tr>\n",
       "      <th>54553</th>\n",
       "      <td>10683</td>\n",
       "      <td>DTP</td>\n",
       "      <td>2018-07-04</td>\n",
       "      <td>True</td>\n",
       "      <td>NA</td>\n",
       "      <td>277</td>\n",
       "      <td>2018-03-16</td>\n",
       "      <td>m</td>\n",
       "      <td>unkown_reg</td>\n",
       "      <td>unkown_dis</td>\n",
       "      <td>110</td>\n",
       "    </tr>\n",
       "    <tr>\n",
       "      <th>54554</th>\n",
       "      <td>10683</td>\n",
       "      <td>DTP</td>\n",
       "      <td>2018-07-23</td>\n",
       "      <td>True</td>\n",
       "      <td>NA</td>\n",
       "      <td>277</td>\n",
       "      <td>2018-03-16</td>\n",
       "      <td>m</td>\n",
       "      <td>unkown_reg</td>\n",
       "      <td>unkown_dis</td>\n",
       "      <td>129</td>\n",
       "    </tr>\n",
       "  </tbody>\n",
       "</table>\n",
       "</div>"
      ],
      "text/plain": [
       "       pat_id vaccine    im_date  successful reason_unsuccesful fac_id  \\\n",
       "54550   10683     OPV 2018-03-16        True                 NA    277   \n",
       "54551   10683     OPV 2018-06-05        True                 NA    277   \n",
       "54552   10683     OPV 2018-08-02        True                 NA    277   \n",
       "54553   10683     DTP 2018-07-04        True                 NA    277   \n",
       "54554   10683     DTP 2018-07-23        True                 NA    277   \n",
       "\n",
       "             dob gender      region    district  days_aftr_dob  \n",
       "54550 2018-03-16      m  unkown_reg  unkown_dis              0  \n",
       "54551 2018-03-16      m  unkown_reg  unkown_dis             81  \n",
       "54552 2018-03-16      m  unkown_reg  unkown_dis            139  \n",
       "54553 2018-03-16      m  unkown_reg  unkown_dis            110  \n",
       "54554 2018-03-16      m  unkown_reg  unkown_dis            129  "
      ]
     },
     "execution_count": 399,
     "metadata": {},
     "output_type": "execute_result"
    }
   ],
   "source": [
    "# y is True if patient would need intervention at 4 months, otherwise False\n",
    "\n",
    "# count the pat id\n",
    "# check is success all True\n",
    "# check if days all less than 184\n",
    "\n",
    "#create df for ALL records where vaccine was given before 6 mo of age\n",
    "# longest amount of days in 6 consecutive months is 184 days\n",
    "temp_days_df = combin_df.loc[combin_df['days_aftr_dob']<=184]\n",
    "temp_df = temp_days_df.loc[temp_days_df['successful']]    \n",
    "\n",
    "temp_df.loc[temp_df.pat_id == 10683]"
   ]
  },
  {
   "cell_type": "code",
   "execution_count": 400,
   "metadata": {},
   "outputs": [
    {
     "name": "stdout",
     "output_type": "stream",
     "text": [
      "<class 'pandas.core.frame.DataFrame'>\n",
      "Int64Index: 258630 entries, 0 to 273372\n",
      "Data columns (total 11 columns):\n",
      "pat_id                258630 non-null int64\n",
      "vaccine               258630 non-null object\n",
      "im_date               258630 non-null datetime64[ns]\n",
      "successful            258630 non-null bool\n",
      "reason_unsuccesful    258630 non-null object\n",
      "fac_id                258630 non-null object\n",
      "dob                   258630 non-null datetime64[ns]\n",
      "gender                258630 non-null object\n",
      "region                258630 non-null object\n",
      "district              258630 non-null object\n",
      "days_aftr_dob         258630 non-null int64\n",
      "dtypes: bool(1), datetime64[ns](2), int64(2), object(6)\n",
      "memory usage: 22.0+ MB\n"
     ]
    }
   ],
   "source": [
    "temp_df.info()"
   ]
  },
  {
   "cell_type": "code",
   "execution_count": 401,
   "metadata": {},
   "outputs": [
    {
     "data": {
      "text/html": [
       "<div>\n",
       "<style scoped>\n",
       "    .dataframe tbody tr th:only-of-type {\n",
       "        vertical-align: middle;\n",
       "    }\n",
       "\n",
       "    .dataframe tbody tr th {\n",
       "        vertical-align: top;\n",
       "    }\n",
       "\n",
       "    .dataframe thead th {\n",
       "        text-align: right;\n",
       "    }\n",
       "</style>\n",
       "<table border=\"1\" class=\"dataframe\">\n",
       "  <thead>\n",
       "    <tr style=\"text-align: right;\">\n",
       "      <th></th>\n",
       "      <th>pat_id</th>\n",
       "      <th>vaccine</th>\n",
       "      <th>im_date</th>\n",
       "      <th>successful</th>\n",
       "      <th>reason_unsuccesful</th>\n",
       "      <th>fac_id</th>\n",
       "      <th>dob</th>\n",
       "      <th>gender</th>\n",
       "      <th>region</th>\n",
       "      <th>district</th>\n",
       "      <th>days_aftr_dob</th>\n",
       "    </tr>\n",
       "  </thead>\n",
       "  <tbody>\n",
       "  </tbody>\n",
       "</table>\n",
       "</div>"
      ],
      "text/plain": [
       "Empty DataFrame\n",
       "Columns: [pat_id, vaccine, im_date, successful, reason_unsuccesful, fac_id, dob, gender, region, district, days_aftr_dob]\n",
       "Index: []"
      ]
     },
     "execution_count": 401,
     "metadata": {},
     "output_type": "execute_result"
    }
   ],
   "source": [
    "temp_df.loc[temp_df['days_aftr_dob'] >184]\n",
    "temp_df.loc[temp_df['successful'] == False]"
   ]
  },
  {
   "cell_type": "code",
   "execution_count": 402,
   "metadata": {},
   "outputs": [
    {
     "name": "stdout",
     "output_type": "stream",
     "text": [
      "<class 'pandas.core.frame.DataFrame'>\n",
      "Int64Index: 48187 entries, 12956 to 7568\n",
      "Data columns (total 1 columns):\n",
      "pat_id    48187 non-null int64\n",
      "dtypes: int64(1)\n",
      "memory usage: 752.9 KB\n"
     ]
    }
   ],
   "source": [
    "rec_counts_df = temp_df['pat_id'].value_counts()\n",
    "rec_counts_df = rec_counts_df.to_frame()\n",
    "rec_counts_df.info() # df that contains patients ids and count of records avail"
   ]
  },
  {
   "cell_type": "code",
   "execution_count": 403,
   "metadata": {},
   "outputs": [],
   "source": [
    "rec_counts_df = rec_counts_df.reset_index()\n",
    "rec_counts_df = rec_counts_df.rename(columns={\"pat_id\": \"count\", \"index\": \"pat_id\"})"
   ]
  },
  {
   "cell_type": "code",
   "execution_count": 404,
   "metadata": {},
   "outputs": [
    {
     "data": {
      "text/html": [
       "<div>\n",
       "<style scoped>\n",
       "    .dataframe tbody tr th:only-of-type {\n",
       "        vertical-align: middle;\n",
       "    }\n",
       "\n",
       "    .dataframe tbody tr th {\n",
       "        vertical-align: top;\n",
       "    }\n",
       "\n",
       "    .dataframe thead th {\n",
       "        text-align: right;\n",
       "    }\n",
       "</style>\n",
       "<table border=\"1\" class=\"dataframe\">\n",
       "  <thead>\n",
       "    <tr style=\"text-align: right;\">\n",
       "      <th></th>\n",
       "      <th>pat_id</th>\n",
       "      <th>count</th>\n",
       "    </tr>\n",
       "  </thead>\n",
       "  <tbody>\n",
       "    <tr>\n",
       "      <th>0</th>\n",
       "      <td>12956</td>\n",
       "      <td>7</td>\n",
       "    </tr>\n",
       "    <tr>\n",
       "      <th>1</th>\n",
       "      <td>47351</td>\n",
       "      <td>7</td>\n",
       "    </tr>\n",
       "    <tr>\n",
       "      <th>2</th>\n",
       "      <td>2082</td>\n",
       "      <td>7</td>\n",
       "    </tr>\n",
       "    <tr>\n",
       "      <th>3</th>\n",
       "      <td>28615</td>\n",
       "      <td>7</td>\n",
       "    </tr>\n",
       "    <tr>\n",
       "      <th>4</th>\n",
       "      <td>6176</td>\n",
       "      <td>7</td>\n",
       "    </tr>\n",
       "  </tbody>\n",
       "</table>\n",
       "</div>"
      ],
      "text/plain": [
       "   pat_id  count\n",
       "0   12956      7\n",
       "1   47351      7\n",
       "2    2082      7\n",
       "3   28615      7\n",
       "4    6176      7"
      ]
     },
     "execution_count": 404,
     "metadata": {},
     "output_type": "execute_result"
    }
   ],
   "source": [
    "rec_counts_df.head()"
   ]
  },
  {
   "cell_type": "code",
   "execution_count": 405,
   "metadata": {},
   "outputs": [
    {
     "data": {
      "text/plain": [
       "17102"
      ]
     },
     "execution_count": 405,
     "metadata": {},
     "output_type": "execute_result"
    }
   ],
   "source": [
    "patients_done_df = rec_counts_df.loc[rec_counts_df['count']==7]\n",
    "patients_done_df.pat_id.nunique()\n",
    "#the pat ids which have completed all their immunization successfully within 6 months"
   ]
  },
  {
   "cell_type": "code",
   "execution_count": 406,
   "metadata": {},
   "outputs": [
    {
     "name": "stdout",
     "output_type": "stream",
     "text": [
      "<class 'pandas.core.frame.DataFrame'>\n",
      "Int64Index: 17102 entries, 0 to 17101\n",
      "Data columns (total 2 columns):\n",
      "pat_id    17102 non-null int64\n",
      "count     17102 non-null int64\n",
      "dtypes: int64(2)\n",
      "memory usage: 400.8 KB\n"
     ]
    }
   ],
   "source": [
    "patients_done_df.info()"
   ]
  },
  {
   "cell_type": "code",
   "execution_count": 407,
   "metadata": {},
   "outputs": [
    {
     "data": {
      "text/html": [
       "<div>\n",
       "<style scoped>\n",
       "    .dataframe tbody tr th:only-of-type {\n",
       "        vertical-align: middle;\n",
       "    }\n",
       "\n",
       "    .dataframe tbody tr th {\n",
       "        vertical-align: top;\n",
       "    }\n",
       "\n",
       "    .dataframe thead th {\n",
       "        text-align: right;\n",
       "    }\n",
       "</style>\n",
       "<table border=\"1\" class=\"dataframe\">\n",
       "  <thead>\n",
       "    <tr style=\"text-align: right;\">\n",
       "      <th></th>\n",
       "      <th>pat_id</th>\n",
       "      <th>count</th>\n",
       "      <th>Y</th>\n",
       "    </tr>\n",
       "  </thead>\n",
       "  <tbody>\n",
       "    <tr>\n",
       "      <th>0</th>\n",
       "      <td>12956</td>\n",
       "      <td>7</td>\n",
       "      <td>False</td>\n",
       "    </tr>\n",
       "    <tr>\n",
       "      <th>1</th>\n",
       "      <td>47351</td>\n",
       "      <td>7</td>\n",
       "      <td>False</td>\n",
       "    </tr>\n",
       "    <tr>\n",
       "      <th>2</th>\n",
       "      <td>2082</td>\n",
       "      <td>7</td>\n",
       "      <td>False</td>\n",
       "    </tr>\n",
       "    <tr>\n",
       "      <th>3</th>\n",
       "      <td>28615</td>\n",
       "      <td>7</td>\n",
       "      <td>False</td>\n",
       "    </tr>\n",
       "    <tr>\n",
       "      <th>4</th>\n",
       "      <td>6176</td>\n",
       "      <td>7</td>\n",
       "      <td>False</td>\n",
       "    </tr>\n",
       "  </tbody>\n",
       "</table>\n",
       "</div>"
      ],
      "text/plain": [
       "   pat_id  count      Y\n",
       "0   12956      7  False\n",
       "1   47351      7  False\n",
       "2    2082      7  False\n",
       "3   28615      7  False\n",
       "4    6176      7  False"
      ]
     },
     "execution_count": 407,
     "metadata": {},
     "output_type": "execute_result"
    }
   ],
   "source": [
    "patients_done_df.insert(2, \"Y\", [False]*17102, True) \n",
    "patients_done_df.head()\n"
   ]
  },
  {
   "cell_type": "markdown",
   "metadata": {},
   "source": [
    "#### combined table with patients and immunization info and target var Y"
   ]
  },
  {
   "cell_type": "code",
   "execution_count": 408,
   "metadata": {},
   "outputs": [
    {
     "name": "stdout",
     "output_type": "stream",
     "text": [
      "<class 'pandas.core.frame.DataFrame'>\n",
      "Int64Index: 273374 entries, 0 to 273373\n",
      "Data columns (total 13 columns):\n",
      "pat_id                273374 non-null int64\n",
      "vaccine               273374 non-null object\n",
      "im_date               273374 non-null datetime64[ns]\n",
      "successful            273374 non-null bool\n",
      "reason_unsuccesful    273374 non-null object\n",
      "fac_id                273374 non-null object\n",
      "dob                   273374 non-null datetime64[ns]\n",
      "gender                273374 non-null object\n",
      "region                273374 non-null object\n",
      "district              273374 non-null object\n",
      "days_aftr_dob         273374 non-null int64\n",
      "count                 119714 non-null float64\n",
      "Y                     119714 non-null object\n",
      "dtypes: bool(1), datetime64[ns](2), float64(1), int64(2), object(7)\n",
      "memory usage: 27.4+ MB\n"
     ]
    }
   ],
   "source": [
    "combin_df_y = pd.merge(right = patients_done_df, left = combin_df, how = \"left\", left_on = 'pat_id', right_on = 'pat_id')\n",
    "# x is left\n",
    "# y is right\n",
    "combin_df_y.info()"
   ]
  },
  {
   "cell_type": "code",
   "execution_count": 409,
   "metadata": {},
   "outputs": [
    {
     "data": {
      "text/plain": [
       "pat_id\n",
       "2        1\n",
       "3        3\n",
       "4        7\n",
       "5        6\n",
       "8        3\n",
       "10       6\n",
       "11       7\n",
       "12       6\n",
       "13       3\n",
       "14       5\n",
       "15       5\n",
       "16       3\n",
       "17       5\n",
       "19       7\n",
       "20       7\n",
       "21       7\n",
       "23       7\n",
       "24       3\n",
       "25       7\n",
       "27       5\n",
       "29       6\n",
       "30       5\n",
       "31       6\n",
       "32       7\n",
       "33       6\n",
       "34       6\n",
       "35       1\n",
       "36       6\n",
       "37       1\n",
       "41       6\n",
       "        ..\n",
       "49948    6\n",
       "49951    5\n",
       "49952    7\n",
       "49953    6\n",
       "49954    1\n",
       "49957    4\n",
       "49958    5\n",
       "49959    6\n",
       "49960    6\n",
       "49964    3\n",
       "49965    6\n",
       "49967    1\n",
       "49970    7\n",
       "49971    1\n",
       "49973    1\n",
       "49974    6\n",
       "49977    6\n",
       "49980    6\n",
       "49982    6\n",
       "49984    1\n",
       "49985    1\n",
       "49986    6\n",
       "49989    7\n",
       "49990    5\n",
       "49992    6\n",
       "49993    6\n",
       "49994    1\n",
       "49995    6\n",
       "49996    5\n",
       "49997    6\n",
       "Length: 31096, dtype: int64"
      ]
     },
     "execution_count": 409,
     "metadata": {},
     "output_type": "execute_result"
    }
   ],
   "source": [
    "combin_df_y[combin_df_y['Y'].isnull()].groupby('pat_id').size()"
   ]
  },
  {
   "cell_type": "code",
   "execution_count": 410,
   "metadata": {},
   "outputs": [
    {
     "data": {
      "text/html": [
       "<div>\n",
       "<style scoped>\n",
       "    .dataframe tbody tr th:only-of-type {\n",
       "        vertical-align: middle;\n",
       "    }\n",
       "\n",
       "    .dataframe tbody tr th {\n",
       "        vertical-align: top;\n",
       "    }\n",
       "\n",
       "    .dataframe thead th {\n",
       "        text-align: right;\n",
       "    }\n",
       "</style>\n",
       "<table border=\"1\" class=\"dataframe\">\n",
       "  <thead>\n",
       "    <tr style=\"text-align: right;\">\n",
       "      <th></th>\n",
       "      <th>pat_id</th>\n",
       "      <th>vaccine</th>\n",
       "      <th>im_date</th>\n",
       "      <th>successful</th>\n",
       "      <th>reason_unsuccesful</th>\n",
       "      <th>fac_id</th>\n",
       "      <th>dob</th>\n",
       "      <th>gender</th>\n",
       "      <th>region</th>\n",
       "      <th>district</th>\n",
       "      <th>days_aftr_dob</th>\n",
       "      <th>count</th>\n",
       "      <th>Y</th>\n",
       "    </tr>\n",
       "  </thead>\n",
       "  <tbody>\n",
       "    <tr>\n",
       "      <th>54</th>\n",
       "      <td>11</td>\n",
       "      <td>OPV</td>\n",
       "      <td>2019-03-28</td>\n",
       "      <td>True</td>\n",
       "      <td>NA</td>\n",
       "      <td>118</td>\n",
       "      <td>2019-02-21</td>\n",
       "      <td>m</td>\n",
       "      <td>Kgalagadi</td>\n",
       "      <td>Tshabong</td>\n",
       "      <td>35</td>\n",
       "      <td>NaN</td>\n",
       "      <td>NaN</td>\n",
       "    </tr>\n",
       "    <tr>\n",
       "      <th>55</th>\n",
       "      <td>11</td>\n",
       "      <td>OPV</td>\n",
       "      <td>2019-06-08</td>\n",
       "      <td>True</td>\n",
       "      <td>NA</td>\n",
       "      <td>118</td>\n",
       "      <td>2019-02-21</td>\n",
       "      <td>m</td>\n",
       "      <td>Kgalagadi</td>\n",
       "      <td>Tshabong</td>\n",
       "      <td>107</td>\n",
       "      <td>NaN</td>\n",
       "      <td>NaN</td>\n",
       "    </tr>\n",
       "    <tr>\n",
       "      <th>56</th>\n",
       "      <td>11</td>\n",
       "      <td>OPV</td>\n",
       "      <td>2019-07-28</td>\n",
       "      <td>True</td>\n",
       "      <td>NA</td>\n",
       "      <td>118</td>\n",
       "      <td>2019-02-21</td>\n",
       "      <td>m</td>\n",
       "      <td>Kgalagadi</td>\n",
       "      <td>Tshabong</td>\n",
       "      <td>157</td>\n",
       "      <td>NaN</td>\n",
       "      <td>NaN</td>\n",
       "    </tr>\n",
       "    <tr>\n",
       "      <th>57</th>\n",
       "      <td>11</td>\n",
       "      <td>OPV</td>\n",
       "      <td>2019-09-10</td>\n",
       "      <td>True</td>\n",
       "      <td>NA</td>\n",
       "      <td>118</td>\n",
       "      <td>2019-02-21</td>\n",
       "      <td>m</td>\n",
       "      <td>Kgalagadi</td>\n",
       "      <td>Tshabong</td>\n",
       "      <td>201</td>\n",
       "      <td>NaN</td>\n",
       "      <td>NaN</td>\n",
       "    </tr>\n",
       "    <tr>\n",
       "      <th>58</th>\n",
       "      <td>11</td>\n",
       "      <td>DTP</td>\n",
       "      <td>2019-06-08</td>\n",
       "      <td>True</td>\n",
       "      <td>NA</td>\n",
       "      <td>118</td>\n",
       "      <td>2019-02-21</td>\n",
       "      <td>m</td>\n",
       "      <td>Kgalagadi</td>\n",
       "      <td>Tshabong</td>\n",
       "      <td>107</td>\n",
       "      <td>NaN</td>\n",
       "      <td>NaN</td>\n",
       "    </tr>\n",
       "    <tr>\n",
       "      <th>59</th>\n",
       "      <td>11</td>\n",
       "      <td>DTP</td>\n",
       "      <td>2019-07-28</td>\n",
       "      <td>True</td>\n",
       "      <td>NA</td>\n",
       "      <td>118</td>\n",
       "      <td>2019-02-21</td>\n",
       "      <td>m</td>\n",
       "      <td>Kgalagadi</td>\n",
       "      <td>Tshabong</td>\n",
       "      <td>157</td>\n",
       "      <td>NaN</td>\n",
       "      <td>NaN</td>\n",
       "    </tr>\n",
       "    <tr>\n",
       "      <th>60</th>\n",
       "      <td>11</td>\n",
       "      <td>DTP</td>\n",
       "      <td>2019-09-10</td>\n",
       "      <td>True</td>\n",
       "      <td>NA</td>\n",
       "      <td>118</td>\n",
       "      <td>2019-02-21</td>\n",
       "      <td>m</td>\n",
       "      <td>Kgalagadi</td>\n",
       "      <td>Tshabong</td>\n",
       "      <td>201</td>\n",
       "      <td>NaN</td>\n",
       "      <td>NaN</td>\n",
       "    </tr>\n",
       "  </tbody>\n",
       "</table>\n",
       "</div>"
      ],
      "text/plain": [
       "    pat_id vaccine    im_date  successful reason_unsuccesful fac_id  \\\n",
       "54      11     OPV 2019-03-28        True                 NA    118   \n",
       "55      11     OPV 2019-06-08        True                 NA    118   \n",
       "56      11     OPV 2019-07-28        True                 NA    118   \n",
       "57      11     OPV 2019-09-10        True                 NA    118   \n",
       "58      11     DTP 2019-06-08        True                 NA    118   \n",
       "59      11     DTP 2019-07-28        True                 NA    118   \n",
       "60      11     DTP 2019-09-10        True                 NA    118   \n",
       "\n",
       "          dob gender     region  district  days_aftr_dob  count    Y  \n",
       "54 2019-02-21      m  Kgalagadi  Tshabong             35    NaN  NaN  \n",
       "55 2019-02-21      m  Kgalagadi  Tshabong            107    NaN  NaN  \n",
       "56 2019-02-21      m  Kgalagadi  Tshabong            157    NaN  NaN  \n",
       "57 2019-02-21      m  Kgalagadi  Tshabong            201    NaN  NaN  \n",
       "58 2019-02-21      m  Kgalagadi  Tshabong            107    NaN  NaN  \n",
       "59 2019-02-21      m  Kgalagadi  Tshabong            157    NaN  NaN  \n",
       "60 2019-02-21      m  Kgalagadi  Tshabong            201    NaN  NaN  "
      ]
     },
     "execution_count": 410,
     "metadata": {},
     "output_type": "execute_result"
    }
   ],
   "source": [
    "combin_df_y[combin_df_y['pat_id'] == 11]"
   ]
  },
  {
   "cell_type": "code",
   "execution_count": 411,
   "metadata": {},
   "outputs": [
    {
     "name": "stdout",
     "output_type": "stream",
     "text": [
      "<class 'pandas.core.frame.DataFrame'>\n",
      "Int64Index: 273374 entries, 0 to 273373\n",
      "Data columns (total 12 columns):\n",
      "pat_id                273374 non-null int64\n",
      "vaccine               273374 non-null object\n",
      "im_date               273374 non-null datetime64[ns]\n",
      "successful            273374 non-null bool\n",
      "reason_unsuccesful    273374 non-null object\n",
      "fac_id                273374 non-null object\n",
      "dob                   273374 non-null datetime64[ns]\n",
      "gender                273374 non-null object\n",
      "region                273374 non-null object\n",
      "district              273374 non-null object\n",
      "days_aftr_dob         273374 non-null int64\n",
      "Y                     273374 non-null bool\n",
      "dtypes: bool(2), datetime64[ns](2), int64(2), object(6)\n",
      "memory usage: 23.5+ MB\n"
     ]
    }
   ],
   "source": [
    "# drop the count column and fill null values in Y with True\n",
    "\n",
    "combin_df_y = combin_df_y.drop(columns = ['count'])\n",
    "combin_df_y['Y'] = combin_df_y['Y'].fillna(True)\n",
    "combin_df_y.info()\n",
    "\n"
   ]
  },
  {
   "cell_type": "code",
   "execution_count": 412,
   "metadata": {},
   "outputs": [
    {
     "data": {
      "text/plain": [
       "pat_id                48198\n",
       "vaccine                   2\n",
       "im_date                 730\n",
       "successful                2\n",
       "reason_unsuccesful        4\n",
       "fac_id                  346\n",
       "dob                     729\n",
       "gender                    3\n",
       "region                   16\n",
       "district                 25\n",
       "days_aftr_dob           424\n",
       "Y                         2\n",
       "dtype: int64"
      ]
     },
     "execution_count": 412,
     "metadata": {},
     "output_type": "execute_result"
    }
   ],
   "source": [
    "combin_df_y.nunique()"
   ]
  },
  {
   "cell_type": "markdown",
   "metadata": {},
   "source": [
    "##### create a subset of the available for use in training"
   ]
  },
  {
   "cell_type": "code",
   "execution_count": 413,
   "metadata": {},
   "outputs": [],
   "source": [
    "# we can only use data upto 4 months for training the model"
   ]
  },
  {
   "cell_type": "code",
   "execution_count": 457,
   "metadata": {},
   "outputs": [],
   "source": [
    "# longest amount of days in 4 consecutive months is july - oct == 123 days\n",
    "training_data = combin_df_y[combin_df_y['days_aftr_dob'] <= 123 ]"
   ]
  },
  {
   "cell_type": "code",
   "execution_count": 458,
   "metadata": {},
   "outputs": [
    {
     "data": {
      "text/html": [
       "<div>\n",
       "<style scoped>\n",
       "    .dataframe tbody tr th:only-of-type {\n",
       "        vertical-align: middle;\n",
       "    }\n",
       "\n",
       "    .dataframe tbody tr th {\n",
       "        vertical-align: top;\n",
       "    }\n",
       "\n",
       "    .dataframe thead th {\n",
       "        text-align: right;\n",
       "    }\n",
       "</style>\n",
       "<table border=\"1\" class=\"dataframe\">\n",
       "  <thead>\n",
       "    <tr style=\"text-align: right;\">\n",
       "      <th></th>\n",
       "      <th>pat_id</th>\n",
       "      <th>vaccine</th>\n",
       "      <th>im_date</th>\n",
       "      <th>successful</th>\n",
       "      <th>reason_unsuccesful</th>\n",
       "      <th>fac_id</th>\n",
       "      <th>dob</th>\n",
       "      <th>gender</th>\n",
       "      <th>region</th>\n",
       "      <th>district</th>\n",
       "      <th>days_aftr_dob</th>\n",
       "      <th>Y</th>\n",
       "    </tr>\n",
       "  </thead>\n",
       "  <tbody>\n",
       "    <tr>\n",
       "      <th>0</th>\n",
       "      <td>1</td>\n",
       "      <td>OPV</td>\n",
       "      <td>2019-01-31</td>\n",
       "      <td>True</td>\n",
       "      <td>NA</td>\n",
       "      <td>51</td>\n",
       "      <td>2019-01-22</td>\n",
       "      <td>f</td>\n",
       "      <td>Ghanzi</td>\n",
       "      <td>Ghanzi</td>\n",
       "      <td>9</td>\n",
       "      <td>False</td>\n",
       "    </tr>\n",
       "    <tr>\n",
       "      <th>1</th>\n",
       "      <td>1</td>\n",
       "      <td>OPV</td>\n",
       "      <td>2019-04-03</td>\n",
       "      <td>True</td>\n",
       "      <td>NA</td>\n",
       "      <td>51</td>\n",
       "      <td>2019-01-22</td>\n",
       "      <td>f</td>\n",
       "      <td>Ghanzi</td>\n",
       "      <td>Ghanzi</td>\n",
       "      <td>71</td>\n",
       "      <td>False</td>\n",
       "    </tr>\n",
       "    <tr>\n",
       "      <th>2</th>\n",
       "      <td>1</td>\n",
       "      <td>OPV</td>\n",
       "      <td>2019-05-25</td>\n",
       "      <td>True</td>\n",
       "      <td>NA</td>\n",
       "      <td>51</td>\n",
       "      <td>2019-01-22</td>\n",
       "      <td>f</td>\n",
       "      <td>Ghanzi</td>\n",
       "      <td>Ghanzi</td>\n",
       "      <td>123</td>\n",
       "      <td>False</td>\n",
       "    </tr>\n",
       "    <tr>\n",
       "      <th>4</th>\n",
       "      <td>1</td>\n",
       "      <td>DTP</td>\n",
       "      <td>2019-04-03</td>\n",
       "      <td>True</td>\n",
       "      <td>NA</td>\n",
       "      <td>51</td>\n",
       "      <td>2019-01-22</td>\n",
       "      <td>f</td>\n",
       "      <td>Ghanzi</td>\n",
       "      <td>Ghanzi</td>\n",
       "      <td>71</td>\n",
       "      <td>False</td>\n",
       "    </tr>\n",
       "    <tr>\n",
       "      <th>5</th>\n",
       "      <td>1</td>\n",
       "      <td>DTP</td>\n",
       "      <td>2019-05-25</td>\n",
       "      <td>True</td>\n",
       "      <td>NA</td>\n",
       "      <td>51</td>\n",
       "      <td>2019-01-22</td>\n",
       "      <td>f</td>\n",
       "      <td>Ghanzi</td>\n",
       "      <td>Ghanzi</td>\n",
       "      <td>123</td>\n",
       "      <td>False</td>\n",
       "    </tr>\n",
       "  </tbody>\n",
       "</table>\n",
       "</div>"
      ],
      "text/plain": [
       "   pat_id vaccine    im_date  successful reason_unsuccesful fac_id        dob  \\\n",
       "0       1     OPV 2019-01-31        True                 NA     51 2019-01-22   \n",
       "1       1     OPV 2019-04-03        True                 NA     51 2019-01-22   \n",
       "2       1     OPV 2019-05-25        True                 NA     51 2019-01-22   \n",
       "4       1     DTP 2019-04-03        True                 NA     51 2019-01-22   \n",
       "5       1     DTP 2019-05-25        True                 NA     51 2019-01-22   \n",
       "\n",
       "  gender  region district  days_aftr_dob      Y  \n",
       "0      f  Ghanzi   Ghanzi              9  False  \n",
       "1      f  Ghanzi   Ghanzi             71  False  \n",
       "2      f  Ghanzi   Ghanzi            123  False  \n",
       "4      f  Ghanzi   Ghanzi             71  False  \n",
       "5      f  Ghanzi   Ghanzi            123  False  "
      ]
     },
     "execution_count": 458,
     "metadata": {},
     "output_type": "execute_result"
    }
   ],
   "source": [
    "training_data.head()"
   ]
  },
  {
   "cell_type": "code",
   "execution_count": 459,
   "metadata": {},
   "outputs": [
    {
     "data": {
      "text/html": [
       "<div>\n",
       "<style scoped>\n",
       "    .dataframe tbody tr th:only-of-type {\n",
       "        vertical-align: middle;\n",
       "    }\n",
       "\n",
       "    .dataframe tbody tr th {\n",
       "        vertical-align: top;\n",
       "    }\n",
       "\n",
       "    .dataframe thead th {\n",
       "        text-align: right;\n",
       "    }\n",
       "</style>\n",
       "<table border=\"1\" class=\"dataframe\">\n",
       "  <thead>\n",
       "    <tr style=\"text-align: right;\">\n",
       "      <th></th>\n",
       "      <th>pat_id</th>\n",
       "      <th>vaccine</th>\n",
       "      <th>im_date</th>\n",
       "      <th>successful</th>\n",
       "      <th>reason_unsuccesful</th>\n",
       "      <th>fac_id</th>\n",
       "      <th>dob</th>\n",
       "      <th>gender</th>\n",
       "      <th>region</th>\n",
       "      <th>district</th>\n",
       "      <th>days_aftr_dob</th>\n",
       "      <th>Y</th>\n",
       "    </tr>\n",
       "  </thead>\n",
       "  <tbody>\n",
       "    <tr>\n",
       "      <th>count</th>\n",
       "      <td>210255.000000</td>\n",
       "      <td>210255</td>\n",
       "      <td>210255</td>\n",
       "      <td>210255</td>\n",
       "      <td>210255</td>\n",
       "      <td>210255</td>\n",
       "      <td>210255</td>\n",
       "      <td>210255</td>\n",
       "      <td>210255</td>\n",
       "      <td>210255</td>\n",
       "      <td>210255.000000</td>\n",
       "      <td>210255</td>\n",
       "    </tr>\n",
       "    <tr>\n",
       "      <th>unique</th>\n",
       "      <td>NaN</td>\n",
       "      <td>2</td>\n",
       "      <td>730</td>\n",
       "      <td>2</td>\n",
       "      <td>4</td>\n",
       "      <td>346</td>\n",
       "      <td>729</td>\n",
       "      <td>3</td>\n",
       "      <td>16</td>\n",
       "      <td>25</td>\n",
       "      <td>NaN</td>\n",
       "      <td>2</td>\n",
       "    </tr>\n",
       "    <tr>\n",
       "      <th>top</th>\n",
       "      <td>NaN</td>\n",
       "      <td>OPV</td>\n",
       "      <td>2018-12-14 00:00:00</td>\n",
       "      <td>True</td>\n",
       "      <td>NA</td>\n",
       "      <td>unkown_fac</td>\n",
       "      <td>2019-04-14 00:00:00</td>\n",
       "      <td>m</td>\n",
       "      <td>North-West</td>\n",
       "      <td>Ngamiland East</td>\n",
       "      <td>NaN</td>\n",
       "      <td>True</td>\n",
       "    </tr>\n",
       "    <tr>\n",
       "      <th>freq</th>\n",
       "      <td>NaN</td>\n",
       "      <td>126863</td>\n",
       "      <td>394</td>\n",
       "      <td>208865</td>\n",
       "      <td>208865</td>\n",
       "      <td>10428</td>\n",
       "      <td>428</td>\n",
       "      <td>103070</td>\n",
       "      <td>71160</td>\n",
       "      <td>64035</td>\n",
       "      <td>NaN</td>\n",
       "      <td>112755</td>\n",
       "    </tr>\n",
       "    <tr>\n",
       "      <th>first</th>\n",
       "      <td>NaN</td>\n",
       "      <td>NaN</td>\n",
       "      <td>2018-01-01 00:00:00</td>\n",
       "      <td>NaN</td>\n",
       "      <td>NaN</td>\n",
       "      <td>NaN</td>\n",
       "      <td>2018-01-01 00:00:00</td>\n",
       "      <td>NaN</td>\n",
       "      <td>NaN</td>\n",
       "      <td>NaN</td>\n",
       "      <td>NaN</td>\n",
       "      <td>NaN</td>\n",
       "    </tr>\n",
       "    <tr>\n",
       "      <th>last</th>\n",
       "      <td>NaN</td>\n",
       "      <td>NaN</td>\n",
       "      <td>2019-12-31 00:00:00</td>\n",
       "      <td>NaN</td>\n",
       "      <td>NaN</td>\n",
       "      <td>NaN</td>\n",
       "      <td>2019-12-30 00:00:00</td>\n",
       "      <td>NaN</td>\n",
       "      <td>NaN</td>\n",
       "      <td>NaN</td>\n",
       "      <td>NaN</td>\n",
       "      <td>NaN</td>\n",
       "    </tr>\n",
       "    <tr>\n",
       "      <th>mean</th>\n",
       "      <td>25012.762417</td>\n",
       "      <td>NaN</td>\n",
       "      <td>NaN</td>\n",
       "      <td>NaN</td>\n",
       "      <td>NaN</td>\n",
       "      <td>NaN</td>\n",
       "      <td>NaN</td>\n",
       "      <td>NaN</td>\n",
       "      <td>NaN</td>\n",
       "      <td>NaN</td>\n",
       "      <td>66.362308</td>\n",
       "      <td>NaN</td>\n",
       "    </tr>\n",
       "    <tr>\n",
       "      <th>std</th>\n",
       "      <td>14442.089198</td>\n",
       "      <td>NaN</td>\n",
       "      <td>NaN</td>\n",
       "      <td>NaN</td>\n",
       "      <td>NaN</td>\n",
       "      <td>NaN</td>\n",
       "      <td>NaN</td>\n",
       "      <td>NaN</td>\n",
       "      <td>NaN</td>\n",
       "      <td>NaN</td>\n",
       "      <td>36.473037</td>\n",
       "      <td>NaN</td>\n",
       "    </tr>\n",
       "    <tr>\n",
       "      <th>min</th>\n",
       "      <td>1.000000</td>\n",
       "      <td>NaN</td>\n",
       "      <td>NaN</td>\n",
       "      <td>NaN</td>\n",
       "      <td>NaN</td>\n",
       "      <td>NaN</td>\n",
       "      <td>NaN</td>\n",
       "      <td>NaN</td>\n",
       "      <td>NaN</td>\n",
       "      <td>NaN</td>\n",
       "      <td>0.000000</td>\n",
       "      <td>NaN</td>\n",
       "    </tr>\n",
       "    <tr>\n",
       "      <th>25%</th>\n",
       "      <td>12500.000000</td>\n",
       "      <td>NaN</td>\n",
       "      <td>NaN</td>\n",
       "      <td>NaN</td>\n",
       "      <td>NaN</td>\n",
       "      <td>NaN</td>\n",
       "      <td>NaN</td>\n",
       "      <td>NaN</td>\n",
       "      <td>NaN</td>\n",
       "      <td>NaN</td>\n",
       "      <td>44.000000</td>\n",
       "      <td>NaN</td>\n",
       "    </tr>\n",
       "    <tr>\n",
       "      <th>50%</th>\n",
       "      <td>24981.000000</td>\n",
       "      <td>NaN</td>\n",
       "      <td>NaN</td>\n",
       "      <td>NaN</td>\n",
       "      <td>NaN</td>\n",
       "      <td>NaN</td>\n",
       "      <td>NaN</td>\n",
       "      <td>NaN</td>\n",
       "      <td>NaN</td>\n",
       "      <td>NaN</td>\n",
       "      <td>73.000000</td>\n",
       "      <td>NaN</td>\n",
       "    </tr>\n",
       "    <tr>\n",
       "      <th>75%</th>\n",
       "      <td>37504.000000</td>\n",
       "      <td>NaN</td>\n",
       "      <td>NaN</td>\n",
       "      <td>NaN</td>\n",
       "      <td>NaN</td>\n",
       "      <td>NaN</td>\n",
       "      <td>NaN</td>\n",
       "      <td>NaN</td>\n",
       "      <td>NaN</td>\n",
       "      <td>NaN</td>\n",
       "      <td>98.000000</td>\n",
       "      <td>NaN</td>\n",
       "    </tr>\n",
       "    <tr>\n",
       "      <th>max</th>\n",
       "      <td>50000.000000</td>\n",
       "      <td>NaN</td>\n",
       "      <td>NaN</td>\n",
       "      <td>NaN</td>\n",
       "      <td>NaN</td>\n",
       "      <td>NaN</td>\n",
       "      <td>NaN</td>\n",
       "      <td>NaN</td>\n",
       "      <td>NaN</td>\n",
       "      <td>NaN</td>\n",
       "      <td>123.000000</td>\n",
       "      <td>NaN</td>\n",
       "    </tr>\n",
       "  </tbody>\n",
       "</table>\n",
       "</div>"
      ],
      "text/plain": [
       "               pat_id vaccine              im_date successful  \\\n",
       "count   210255.000000  210255               210255     210255   \n",
       "unique            NaN       2                  730          2   \n",
       "top               NaN     OPV  2018-12-14 00:00:00       True   \n",
       "freq              NaN  126863                  394     208865   \n",
       "first             NaN     NaN  2018-01-01 00:00:00        NaN   \n",
       "last              NaN     NaN  2019-12-31 00:00:00        NaN   \n",
       "mean     25012.762417     NaN                  NaN        NaN   \n",
       "std      14442.089198     NaN                  NaN        NaN   \n",
       "min          1.000000     NaN                  NaN        NaN   \n",
       "25%      12500.000000     NaN                  NaN        NaN   \n",
       "50%      24981.000000     NaN                  NaN        NaN   \n",
       "75%      37504.000000     NaN                  NaN        NaN   \n",
       "max      50000.000000     NaN                  NaN        NaN   \n",
       "\n",
       "       reason_unsuccesful      fac_id                  dob  gender  \\\n",
       "count              210255      210255               210255  210255   \n",
       "unique                  4         346                  729       3   \n",
       "top                    NA  unkown_fac  2019-04-14 00:00:00       m   \n",
       "freq               208865       10428                  428  103070   \n",
       "first                 NaN         NaN  2018-01-01 00:00:00     NaN   \n",
       "last                  NaN         NaN  2019-12-30 00:00:00     NaN   \n",
       "mean                  NaN         NaN                  NaN     NaN   \n",
       "std                   NaN         NaN                  NaN     NaN   \n",
       "min                   NaN         NaN                  NaN     NaN   \n",
       "25%                   NaN         NaN                  NaN     NaN   \n",
       "50%                   NaN         NaN                  NaN     NaN   \n",
       "75%                   NaN         NaN                  NaN     NaN   \n",
       "max                   NaN         NaN                  NaN     NaN   \n",
       "\n",
       "            region        district  days_aftr_dob       Y  \n",
       "count       210255          210255  210255.000000  210255  \n",
       "unique          16              25            NaN       2  \n",
       "top     North-West  Ngamiland East            NaN    True  \n",
       "freq         71160           64035            NaN  112755  \n",
       "first          NaN             NaN            NaN     NaN  \n",
       "last           NaN             NaN            NaN     NaN  \n",
       "mean           NaN             NaN      66.362308     NaN  \n",
       "std            NaN             NaN      36.473037     NaN  \n",
       "min            NaN             NaN       0.000000     NaN  \n",
       "25%            NaN             NaN      44.000000     NaN  \n",
       "50%            NaN             NaN      73.000000     NaN  \n",
       "75%            NaN             NaN      98.000000     NaN  \n",
       "max            NaN             NaN     123.000000     NaN  "
      ]
     },
     "execution_count": 459,
     "metadata": {},
     "output_type": "execute_result"
    }
   ],
   "source": [
    "training_data.describe(include = 'all')"
   ]
  },
  {
   "cell_type": "code",
   "execution_count": 460,
   "metadata": {},
   "outputs": [
    {
     "data": {
      "text/html": [
       "<div>\n",
       "<style scoped>\n",
       "    .dataframe tbody tr th:only-of-type {\n",
       "        vertical-align: middle;\n",
       "    }\n",
       "\n",
       "    .dataframe tbody tr th {\n",
       "        vertical-align: top;\n",
       "    }\n",
       "\n",
       "    .dataframe thead th {\n",
       "        text-align: right;\n",
       "    }\n",
       "</style>\n",
       "<table border=\"1\" class=\"dataframe\">\n",
       "  <thead>\n",
       "    <tr style=\"text-align: right;\">\n",
       "      <th></th>\n",
       "      <th>pat_id</th>\n",
       "      <th>vaccine</th>\n",
       "      <th>successful</th>\n",
       "      <th>fac_id</th>\n",
       "      <th>gender</th>\n",
       "      <th>region</th>\n",
       "      <th>district</th>\n",
       "      <th>Y</th>\n",
       "    </tr>\n",
       "  </thead>\n",
       "  <tbody>\n",
       "    <tr>\n",
       "      <th>0</th>\n",
       "      <td>1</td>\n",
       "      <td>OPV</td>\n",
       "      <td>True</td>\n",
       "      <td>51</td>\n",
       "      <td>f</td>\n",
       "      <td>Ghanzi</td>\n",
       "      <td>Ghanzi</td>\n",
       "      <td>False</td>\n",
       "    </tr>\n",
       "    <tr>\n",
       "      <th>1</th>\n",
       "      <td>1</td>\n",
       "      <td>OPV</td>\n",
       "      <td>True</td>\n",
       "      <td>51</td>\n",
       "      <td>f</td>\n",
       "      <td>Ghanzi</td>\n",
       "      <td>Ghanzi</td>\n",
       "      <td>False</td>\n",
       "    </tr>\n",
       "    <tr>\n",
       "      <th>2</th>\n",
       "      <td>1</td>\n",
       "      <td>OPV</td>\n",
       "      <td>True</td>\n",
       "      <td>51</td>\n",
       "      <td>f</td>\n",
       "      <td>Ghanzi</td>\n",
       "      <td>Ghanzi</td>\n",
       "      <td>False</td>\n",
       "    </tr>\n",
       "    <tr>\n",
       "      <th>4</th>\n",
       "      <td>1</td>\n",
       "      <td>DTP</td>\n",
       "      <td>True</td>\n",
       "      <td>51</td>\n",
       "      <td>f</td>\n",
       "      <td>Ghanzi</td>\n",
       "      <td>Ghanzi</td>\n",
       "      <td>False</td>\n",
       "    </tr>\n",
       "    <tr>\n",
       "      <th>5</th>\n",
       "      <td>1</td>\n",
       "      <td>DTP</td>\n",
       "      <td>True</td>\n",
       "      <td>51</td>\n",
       "      <td>f</td>\n",
       "      <td>Ghanzi</td>\n",
       "      <td>Ghanzi</td>\n",
       "      <td>False</td>\n",
       "    </tr>\n",
       "  </tbody>\n",
       "</table>\n",
       "</div>"
      ],
      "text/plain": [
       "   pat_id vaccine  successful fac_id gender  region district      Y\n",
       "0       1     OPV        True     51      f  Ghanzi   Ghanzi  False\n",
       "1       1     OPV        True     51      f  Ghanzi   Ghanzi  False\n",
       "2       1     OPV        True     51      f  Ghanzi   Ghanzi  False\n",
       "4       1     DTP        True     51      f  Ghanzi   Ghanzi  False\n",
       "5       1     DTP        True     51      f  Ghanzi   Ghanzi  False"
      ]
     },
     "execution_count": 460,
     "metadata": {},
     "output_type": "execute_result"
    }
   ],
   "source": [
    "# for the purpose of training a simple baseline, will drop dob, reason_unsuccesful, im_date\n",
    "# drop days_aftr_dob too for now\n",
    "\n",
    "training_data = training_data.drop(columns = ['im_date', 'reason_unsuccesful', 'dob', 'days_aftr_dob'])\n",
    "training_data.head()"
   ]
  },
  {
   "cell_type": "code",
   "execution_count": 461,
   "metadata": {},
   "outputs": [
    {
     "data": {
      "text/html": [
       "<div>\n",
       "<style scoped>\n",
       "    .dataframe tbody tr th:only-of-type {\n",
       "        vertical-align: middle;\n",
       "    }\n",
       "\n",
       "    .dataframe tbody tr th {\n",
       "        vertical-align: top;\n",
       "    }\n",
       "\n",
       "    .dataframe thead th {\n",
       "        text-align: right;\n",
       "    }\n",
       "</style>\n",
       "<table border=\"1\" class=\"dataframe\">\n",
       "  <thead>\n",
       "    <tr style=\"text-align: right;\">\n",
       "      <th></th>\n",
       "      <th>pat_id</th>\n",
       "      <th>vaccine</th>\n",
       "      <th>successful</th>\n",
       "      <th>fac_id</th>\n",
       "      <th>gender</th>\n",
       "      <th>region</th>\n",
       "      <th>district</th>\n",
       "      <th>Y</th>\n",
       "    </tr>\n",
       "  </thead>\n",
       "  <tbody>\n",
       "    <tr>\n",
       "      <th>7</th>\n",
       "      <td>2</td>\n",
       "      <td>OPV</td>\n",
       "      <td>True</td>\n",
       "      <td>89</td>\n",
       "      <td>f</td>\n",
       "      <td>Chobe</td>\n",
       "      <td>Chobe</td>\n",
       "      <td>True</td>\n",
       "    </tr>\n",
       "  </tbody>\n",
       "</table>\n",
       "</div>"
      ],
      "text/plain": [
       "   pat_id vaccine  successful fac_id gender region district     Y\n",
       "7       2     OPV        True     89      f  Chobe    Chobe  True"
      ]
     },
     "execution_count": 461,
     "metadata": {},
     "output_type": "execute_result"
    }
   ],
   "source": [
    "training_data[training_data.pat_id == 2]"
   ]
  },
  {
   "cell_type": "code",
   "execution_count": 462,
   "metadata": {},
   "outputs": [],
   "source": [
    "# num of opv\n",
    "# num of dtp"
   ]
  },
  {
   "cell_type": "code",
   "execution_count": 463,
   "metadata": {},
   "outputs": [
    {
     "data": {
      "text/html": [
       "<div>\n",
       "<style scoped>\n",
       "    .dataframe tbody tr th:only-of-type {\n",
       "        vertical-align: middle;\n",
       "    }\n",
       "\n",
       "    .dataframe tbody tr th {\n",
       "        vertical-align: top;\n",
       "    }\n",
       "\n",
       "    .dataframe thead th {\n",
       "        text-align: right;\n",
       "    }\n",
       "</style>\n",
       "<table border=\"1\" class=\"dataframe\">\n",
       "  <thead>\n",
       "    <tr style=\"text-align: right;\">\n",
       "      <th></th>\n",
       "      <th>pat_id</th>\n",
       "      <th>n-dtp</th>\n",
       "    </tr>\n",
       "  </thead>\n",
       "  <tbody>\n",
       "    <tr>\n",
       "      <th>0</th>\n",
       "      <td>1</td>\n",
       "      <td>2</td>\n",
       "    </tr>\n",
       "    <tr>\n",
       "      <th>3</th>\n",
       "      <td>3</td>\n",
       "      <td>1</td>\n",
       "    </tr>\n",
       "    <tr>\n",
       "      <th>5</th>\n",
       "      <td>4</td>\n",
       "      <td>1</td>\n",
       "    </tr>\n",
       "    <tr>\n",
       "      <th>7</th>\n",
       "      <td>5</td>\n",
       "      <td>2</td>\n",
       "    </tr>\n",
       "    <tr>\n",
       "      <th>9</th>\n",
       "      <td>6</td>\n",
       "      <td>3</td>\n",
       "    </tr>\n",
       "  </tbody>\n",
       "</table>\n",
       "</div>"
      ],
      "text/plain": [
       "   pat_id  n-dtp\n",
       "0       1      2\n",
       "3       3      1\n",
       "5       4      1\n",
       "7       5      2\n",
       "9       6      3"
      ]
     },
     "execution_count": 463,
     "metadata": {},
     "output_type": "execute_result"
    }
   ],
   "source": [
    "dtp = training_data.groupby(['pat_id','vaccine']).size().reset_index().rename(columns={0: \"n-dtp\"})\n",
    "dtp = dtp[dtp.vaccine == 'DTP']\n",
    "dtp = dtp.drop(columns = ['vaccine'])\n",
    "dtp.head()"
   ]
  },
  {
   "cell_type": "code",
   "execution_count": 464,
   "metadata": {},
   "outputs": [
    {
     "data": {
      "text/html": [
       "<div>\n",
       "<style scoped>\n",
       "    .dataframe tbody tr th:only-of-type {\n",
       "        vertical-align: middle;\n",
       "    }\n",
       "\n",
       "    .dataframe tbody tr th {\n",
       "        vertical-align: top;\n",
       "    }\n",
       "\n",
       "    .dataframe thead th {\n",
       "        text-align: right;\n",
       "    }\n",
       "</style>\n",
       "<table border=\"1\" class=\"dataframe\">\n",
       "  <thead>\n",
       "    <tr style=\"text-align: right;\">\n",
       "      <th></th>\n",
       "      <th>pat_id</th>\n",
       "      <th>n-opv</th>\n",
       "    </tr>\n",
       "  </thead>\n",
       "  <tbody>\n",
       "    <tr>\n",
       "      <th>1</th>\n",
       "      <td>1</td>\n",
       "      <td>3</td>\n",
       "    </tr>\n",
       "    <tr>\n",
       "      <th>2</th>\n",
       "      <td>2</td>\n",
       "      <td>1</td>\n",
       "    </tr>\n",
       "    <tr>\n",
       "      <th>4</th>\n",
       "      <td>3</td>\n",
       "      <td>2</td>\n",
       "    </tr>\n",
       "    <tr>\n",
       "      <th>6</th>\n",
       "      <td>4</td>\n",
       "      <td>1</td>\n",
       "    </tr>\n",
       "    <tr>\n",
       "      <th>8</th>\n",
       "      <td>5</td>\n",
       "      <td>3</td>\n",
       "    </tr>\n",
       "  </tbody>\n",
       "</table>\n",
       "</div>"
      ],
      "text/plain": [
       "   pat_id  n-opv\n",
       "1       1      3\n",
       "2       2      1\n",
       "4       3      2\n",
       "6       4      1\n",
       "8       5      3"
      ]
     },
     "execution_count": 464,
     "metadata": {},
     "output_type": "execute_result"
    }
   ],
   "source": [
    "opv = training_data.groupby(['pat_id','vaccine']).size().reset_index().rename(columns={0: \"n-opv\"})\n",
    "opv = opv[opv.vaccine == 'OPV']\n",
    "opv = opv.drop(columns = ['vaccine'])\n",
    "opv.head()\n"
   ]
  },
  {
   "cell_type": "code",
   "execution_count": 465,
   "metadata": {},
   "outputs": [],
   "source": [
    "training_data = training_data.drop(columns = ['vaccine', 'successful'])\n",
    "training_data = training_data.drop_duplicates()"
   ]
  },
  {
   "cell_type": "code",
   "execution_count": 466,
   "metadata": {},
   "outputs": [
    {
     "data": {
      "text/html": [
       "<div>\n",
       "<style scoped>\n",
       "    .dataframe tbody tr th:only-of-type {\n",
       "        vertical-align: middle;\n",
       "    }\n",
       "\n",
       "    .dataframe tbody tr th {\n",
       "        vertical-align: top;\n",
       "    }\n",
       "\n",
       "    .dataframe thead th {\n",
       "        text-align: right;\n",
       "    }\n",
       "</style>\n",
       "<table border=\"1\" class=\"dataframe\">\n",
       "  <thead>\n",
       "    <tr style=\"text-align: right;\">\n",
       "      <th></th>\n",
       "      <th>pat_id</th>\n",
       "      <th>fac_id</th>\n",
       "      <th>gender</th>\n",
       "      <th>region</th>\n",
       "      <th>district</th>\n",
       "      <th>Y</th>\n",
       "    </tr>\n",
       "  </thead>\n",
       "  <tbody>\n",
       "    <tr>\n",
       "      <th>0</th>\n",
       "      <td>1</td>\n",
       "      <td>51</td>\n",
       "      <td>f</td>\n",
       "      <td>Ghanzi</td>\n",
       "      <td>Ghanzi</td>\n",
       "      <td>False</td>\n",
       "    </tr>\n",
       "    <tr>\n",
       "      <th>7</th>\n",
       "      <td>2</td>\n",
       "      <td>89</td>\n",
       "      <td>f</td>\n",
       "      <td>Chobe</td>\n",
       "      <td>Chobe</td>\n",
       "      <td>True</td>\n",
       "    </tr>\n",
       "    <tr>\n",
       "      <th>8</th>\n",
       "      <td>3</td>\n",
       "      <td>161</td>\n",
       "      <td>m</td>\n",
       "      <td>Central</td>\n",
       "      <td>Tutume</td>\n",
       "      <td>True</td>\n",
       "    </tr>\n",
       "    <tr>\n",
       "      <th>11</th>\n",
       "      <td>4</td>\n",
       "      <td>168</td>\n",
       "      <td>f</td>\n",
       "      <td>Central</td>\n",
       "      <td>Lethlakane</td>\n",
       "      <td>True</td>\n",
       "    </tr>\n",
       "    <tr>\n",
       "      <th>18</th>\n",
       "      <td>5</td>\n",
       "      <td>183</td>\n",
       "      <td>m</td>\n",
       "      <td>Central</td>\n",
       "      <td>Tuli</td>\n",
       "      <td>True</td>\n",
       "    </tr>\n",
       "  </tbody>\n",
       "</table>\n",
       "</div>"
      ],
      "text/plain": [
       "    pat_id fac_id gender   region    district      Y\n",
       "0        1     51      f   Ghanzi      Ghanzi  False\n",
       "7        2     89      f    Chobe       Chobe   True\n",
       "8        3    161      m  Central      Tutume   True\n",
       "11       4    168      f  Central  Lethlakane   True\n",
       "18       5    183      m  Central        Tuli   True"
      ]
     },
     "execution_count": 466,
     "metadata": {},
     "output_type": "execute_result"
    }
   ],
   "source": [
    "training_data.head()"
   ]
  },
  {
   "cell_type": "code",
   "execution_count": 467,
   "metadata": {},
   "outputs": [],
   "source": [
    "training_data = pd.merge(right = opv, left = training_data, how = \"left\", left_on = 'pat_id', right_on = 'pat_id')\n",
    "training_data = pd.merge(right = dtp, left = training_data, how = \"left\", left_on = 'pat_id', right_on = 'pat_id')"
   ]
  },
  {
   "cell_type": "code",
   "execution_count": 468,
   "metadata": {},
   "outputs": [
    {
     "data": {
      "text/html": [
       "<div>\n",
       "<style scoped>\n",
       "    .dataframe tbody tr th:only-of-type {\n",
       "        vertical-align: middle;\n",
       "    }\n",
       "\n",
       "    .dataframe tbody tr th {\n",
       "        vertical-align: top;\n",
       "    }\n",
       "\n",
       "    .dataframe thead th {\n",
       "        text-align: right;\n",
       "    }\n",
       "</style>\n",
       "<table border=\"1\" class=\"dataframe\">\n",
       "  <thead>\n",
       "    <tr style=\"text-align: right;\">\n",
       "      <th></th>\n",
       "      <th>pat_id</th>\n",
       "      <th>fac_id</th>\n",
       "      <th>gender</th>\n",
       "      <th>region</th>\n",
       "      <th>district</th>\n",
       "      <th>Y</th>\n",
       "      <th>n-opv</th>\n",
       "      <th>n-dtp</th>\n",
       "    </tr>\n",
       "  </thead>\n",
       "  <tbody>\n",
       "    <tr>\n",
       "      <th>0</th>\n",
       "      <td>1</td>\n",
       "      <td>51</td>\n",
       "      <td>f</td>\n",
       "      <td>Ghanzi</td>\n",
       "      <td>Ghanzi</td>\n",
       "      <td>False</td>\n",
       "      <td>3.0</td>\n",
       "      <td>2.0</td>\n",
       "    </tr>\n",
       "    <tr>\n",
       "      <th>1</th>\n",
       "      <td>2</td>\n",
       "      <td>89</td>\n",
       "      <td>f</td>\n",
       "      <td>Chobe</td>\n",
       "      <td>Chobe</td>\n",
       "      <td>True</td>\n",
       "      <td>1.0</td>\n",
       "      <td>NaN</td>\n",
       "    </tr>\n",
       "    <tr>\n",
       "      <th>2</th>\n",
       "      <td>3</td>\n",
       "      <td>161</td>\n",
       "      <td>m</td>\n",
       "      <td>Central</td>\n",
       "      <td>Tutume</td>\n",
       "      <td>True</td>\n",
       "      <td>2.0</td>\n",
       "      <td>1.0</td>\n",
       "    </tr>\n",
       "    <tr>\n",
       "      <th>3</th>\n",
       "      <td>4</td>\n",
       "      <td>168</td>\n",
       "      <td>f</td>\n",
       "      <td>Central</td>\n",
       "      <td>Lethlakane</td>\n",
       "      <td>True</td>\n",
       "      <td>1.0</td>\n",
       "      <td>1.0</td>\n",
       "    </tr>\n",
       "    <tr>\n",
       "      <th>4</th>\n",
       "      <td>5</td>\n",
       "      <td>183</td>\n",
       "      <td>m</td>\n",
       "      <td>Central</td>\n",
       "      <td>Tuli</td>\n",
       "      <td>True</td>\n",
       "      <td>3.0</td>\n",
       "      <td>2.0</td>\n",
       "    </tr>\n",
       "  </tbody>\n",
       "</table>\n",
       "</div>"
      ],
      "text/plain": [
       "   pat_id fac_id gender   region    district      Y  n-opv  n-dtp\n",
       "0       1     51      f   Ghanzi      Ghanzi  False    3.0    2.0\n",
       "1       2     89      f    Chobe       Chobe   True    1.0    NaN\n",
       "2       3    161      m  Central      Tutume   True    2.0    1.0\n",
       "3       4    168      f  Central  Lethlakane   True    1.0    1.0\n",
       "4       5    183      m  Central        Tuli   True    3.0    2.0"
      ]
     },
     "execution_count": 468,
     "metadata": {},
     "output_type": "execute_result"
    }
   ],
   "source": [
    "training_data.head()"
   ]
  },
  {
   "cell_type": "code",
   "execution_count": 469,
   "metadata": {},
   "outputs": [
    {
     "data": {
      "text/html": [
       "<div>\n",
       "<style scoped>\n",
       "    .dataframe tbody tr th:only-of-type {\n",
       "        vertical-align: middle;\n",
       "    }\n",
       "\n",
       "    .dataframe tbody tr th {\n",
       "        vertical-align: top;\n",
       "    }\n",
       "\n",
       "    .dataframe thead th {\n",
       "        text-align: right;\n",
       "    }\n",
       "</style>\n",
       "<table border=\"1\" class=\"dataframe\">\n",
       "  <thead>\n",
       "    <tr style=\"text-align: right;\">\n",
       "      <th></th>\n",
       "      <th>pat_id</th>\n",
       "      <th>fac_id</th>\n",
       "      <th>gender</th>\n",
       "      <th>region</th>\n",
       "      <th>district</th>\n",
       "      <th>Y</th>\n",
       "      <th>n-opv</th>\n",
       "      <th>n-dtp</th>\n",
       "    </tr>\n",
       "  </thead>\n",
       "  <tbody>\n",
       "    <tr>\n",
       "      <th>0</th>\n",
       "      <td>1</td>\n",
       "      <td>51</td>\n",
       "      <td>f</td>\n",
       "      <td>Ghanzi</td>\n",
       "      <td>Ghanzi</td>\n",
       "      <td>False</td>\n",
       "      <td>3.0</td>\n",
       "      <td>2.0</td>\n",
       "    </tr>\n",
       "    <tr>\n",
       "      <th>1</th>\n",
       "      <td>2</td>\n",
       "      <td>89</td>\n",
       "      <td>f</td>\n",
       "      <td>Chobe</td>\n",
       "      <td>Chobe</td>\n",
       "      <td>True</td>\n",
       "      <td>1.0</td>\n",
       "      <td>0.0</td>\n",
       "    </tr>\n",
       "    <tr>\n",
       "      <th>2</th>\n",
       "      <td>3</td>\n",
       "      <td>161</td>\n",
       "      <td>m</td>\n",
       "      <td>Central</td>\n",
       "      <td>Tutume</td>\n",
       "      <td>True</td>\n",
       "      <td>2.0</td>\n",
       "      <td>1.0</td>\n",
       "    </tr>\n",
       "    <tr>\n",
       "      <th>3</th>\n",
       "      <td>4</td>\n",
       "      <td>168</td>\n",
       "      <td>f</td>\n",
       "      <td>Central</td>\n",
       "      <td>Lethlakane</td>\n",
       "      <td>True</td>\n",
       "      <td>1.0</td>\n",
       "      <td>1.0</td>\n",
       "    </tr>\n",
       "    <tr>\n",
       "      <th>4</th>\n",
       "      <td>5</td>\n",
       "      <td>183</td>\n",
       "      <td>m</td>\n",
       "      <td>Central</td>\n",
       "      <td>Tuli</td>\n",
       "      <td>True</td>\n",
       "      <td>3.0</td>\n",
       "      <td>2.0</td>\n",
       "    </tr>\n",
       "    <tr>\n",
       "      <th>5</th>\n",
       "      <td>6</td>\n",
       "      <td>142</td>\n",
       "      <td>f</td>\n",
       "      <td>Central</td>\n",
       "      <td>Tutume</td>\n",
       "      <td>False</td>\n",
       "      <td>4.0</td>\n",
       "      <td>3.0</td>\n",
       "    </tr>\n",
       "    <tr>\n",
       "      <th>6</th>\n",
       "      <td>7</td>\n",
       "      <td>287</td>\n",
       "      <td>f</td>\n",
       "      <td>North-West</td>\n",
       "      <td>Ngamiland East</td>\n",
       "      <td>False</td>\n",
       "      <td>4.0</td>\n",
       "      <td>3.0</td>\n",
       "    </tr>\n",
       "    <tr>\n",
       "      <th>7</th>\n",
       "      <td>8</td>\n",
       "      <td>88</td>\n",
       "      <td>f</td>\n",
       "      <td>unkown_reg</td>\n",
       "      <td>unkown_dis</td>\n",
       "      <td>True</td>\n",
       "      <td>1.0</td>\n",
       "      <td>2.0</td>\n",
       "    </tr>\n",
       "    <tr>\n",
       "      <th>8</th>\n",
       "      <td>9</td>\n",
       "      <td>280</td>\n",
       "      <td>m</td>\n",
       "      <td>Kweneng</td>\n",
       "      <td>Kweneng South</td>\n",
       "      <td>False</td>\n",
       "      <td>3.0</td>\n",
       "      <td>2.0</td>\n",
       "    </tr>\n",
       "    <tr>\n",
       "      <th>9</th>\n",
       "      <td>10</td>\n",
       "      <td>289</td>\n",
       "      <td>f</td>\n",
       "      <td>North-West</td>\n",
       "      <td>Ngamiland East</td>\n",
       "      <td>True</td>\n",
       "      <td>3.0</td>\n",
       "      <td>3.0</td>\n",
       "    </tr>\n",
       "  </tbody>\n",
       "</table>\n",
       "</div>"
      ],
      "text/plain": [
       "   pat_id fac_id gender      region        district      Y  n-opv  n-dtp\n",
       "0       1     51      f      Ghanzi          Ghanzi  False    3.0    2.0\n",
       "1       2     89      f       Chobe           Chobe   True    1.0    0.0\n",
       "2       3    161      m     Central          Tutume   True    2.0    1.0\n",
       "3       4    168      f     Central      Lethlakane   True    1.0    1.0\n",
       "4       5    183      m     Central            Tuli   True    3.0    2.0\n",
       "5       6    142      f     Central          Tutume  False    4.0    3.0\n",
       "6       7    287      f  North-West  Ngamiland East  False    4.0    3.0\n",
       "7       8     88      f  unkown_reg      unkown_dis   True    1.0    2.0\n",
       "8       9    280      m     Kweneng   Kweneng South  False    3.0    2.0\n",
       "9      10    289      f  North-West  Ngamiland East   True    3.0    3.0"
      ]
     },
     "execution_count": 469,
     "metadata": {},
     "output_type": "execute_result"
    }
   ],
   "source": [
    "training_data['n-opv'] = training_data['n-opv'].fillna(0)\n",
    "training_data['n-dtp'] = training_data['n-dtp'].fillna(0)\n",
    "\n",
    "training_data.head(10)"
   ]
  },
  {
   "cell_type": "code",
   "execution_count": 470,
   "metadata": {},
   "outputs": [
    {
     "name": "stdout",
     "output_type": "stream",
     "text": [
      "<class 'pandas.core.frame.DataFrame'>\n",
      "Int64Index: 48133 entries, 0 to 48132\n",
      "Data columns (total 8 columns):\n",
      "pat_id      48133 non-null int64\n",
      "fac_id      48133 non-null object\n",
      "gender      48133 non-null object\n",
      "region      48133 non-null object\n",
      "district    48133 non-null object\n",
      "Y           48133 non-null bool\n",
      "n-opv       48133 non-null float64\n",
      "n-dtp       48133 non-null float64\n",
      "dtypes: bool(1), float64(2), int64(1), object(4)\n",
      "memory usage: 3.0+ MB\n"
     ]
    }
   ],
   "source": [
    "training_data.info()"
   ]
  },
  {
   "cell_type": "markdown",
   "metadata": {},
   "source": [
    "### Baseline Model"
   ]
  },
  {
   "cell_type": "code",
   "execution_count": 471,
   "metadata": {},
   "outputs": [
    {
     "data": {
      "text/plain": [
       "True     31031\n",
       "False    17102\n",
       "Name: Y, dtype: int64"
      ]
     },
     "execution_count": 471,
     "metadata": {},
     "output_type": "execute_result"
    }
   ],
   "source": [
    "# as a baseline score lets predict to highed occuring class as prediction for all\n",
    "\n",
    "# how many patients need intervention vs dont?\n",
    "training_data.Y.value_counts()"
   ]
  },
  {
   "cell_type": "code",
   "execution_count": 429,
   "metadata": {},
   "outputs": [
    {
     "data": {
      "text/plain": [
       "64.46928302827581"
      ]
     },
     "execution_count": 429,
     "metadata": {},
     "output_type": "execute_result"
    }
   ],
   "source": [
    "# baseline accuracy - if the model predicted everyone needs intervention:\n",
    "31031/(31031+17102) * 100"
   ]
  },
  {
   "cell_type": "code",
   "execution_count": 472,
   "metadata": {},
   "outputs": [
    {
     "data": {
      "text/html": [
       "<div>\n",
       "<style scoped>\n",
       "    .dataframe tbody tr th:only-of-type {\n",
       "        vertical-align: middle;\n",
       "    }\n",
       "\n",
       "    .dataframe tbody tr th {\n",
       "        vertical-align: top;\n",
       "    }\n",
       "\n",
       "    .dataframe thead th {\n",
       "        text-align: right;\n",
       "    }\n",
       "</style>\n",
       "<table border=\"1\" class=\"dataframe\">\n",
       "  <thead>\n",
       "    <tr style=\"text-align: right;\">\n",
       "      <th></th>\n",
       "      <th>pat_id</th>\n",
       "      <th>fac_id</th>\n",
       "      <th>gender</th>\n",
       "      <th>region</th>\n",
       "      <th>district</th>\n",
       "      <th>Y</th>\n",
       "      <th>n-opv</th>\n",
       "      <th>n-dtp</th>\n",
       "    </tr>\n",
       "  </thead>\n",
       "  <tbody>\n",
       "    <tr>\n",
       "      <th>count</th>\n",
       "      <td>48133.000000</td>\n",
       "      <td>48133</td>\n",
       "      <td>48133</td>\n",
       "      <td>48133</td>\n",
       "      <td>48133</td>\n",
       "      <td>48133</td>\n",
       "      <td>48133.000000</td>\n",
       "      <td>48133.000000</td>\n",
       "    </tr>\n",
       "    <tr>\n",
       "      <th>unique</th>\n",
       "      <td>NaN</td>\n",
       "      <td>346</td>\n",
       "      <td>3</td>\n",
       "      <td>16</td>\n",
       "      <td>25</td>\n",
       "      <td>2</td>\n",
       "      <td>NaN</td>\n",
       "      <td>NaN</td>\n",
       "    </tr>\n",
       "    <tr>\n",
       "      <th>top</th>\n",
       "      <td>NaN</td>\n",
       "      <td>unkown_fac</td>\n",
       "      <td>m</td>\n",
       "      <td>North-West</td>\n",
       "      <td>Ngamiland East</td>\n",
       "      <td>True</td>\n",
       "      <td>NaN</td>\n",
       "      <td>NaN</td>\n",
       "    </tr>\n",
       "    <tr>\n",
       "      <th>freq</th>\n",
       "      <td>NaN</td>\n",
       "      <td>2415</td>\n",
       "      <td>23626</td>\n",
       "      <td>16115</td>\n",
       "      <td>14478</td>\n",
       "      <td>31031</td>\n",
       "      <td>NaN</td>\n",
       "      <td>NaN</td>\n",
       "    </tr>\n",
       "    <tr>\n",
       "      <th>mean</th>\n",
       "      <td>25005.948414</td>\n",
       "      <td>NaN</td>\n",
       "      <td>NaN</td>\n",
       "      <td>NaN</td>\n",
       "      <td>NaN</td>\n",
       "      <td>NaN</td>\n",
       "      <td>2.635676</td>\n",
       "      <td>1.732533</td>\n",
       "    </tr>\n",
       "    <tr>\n",
       "      <th>std</th>\n",
       "      <td>14437.375252</td>\n",
       "      <td>NaN</td>\n",
       "      <td>NaN</td>\n",
       "      <td>NaN</td>\n",
       "      <td>NaN</td>\n",
       "      <td>NaN</td>\n",
       "      <td>0.969548</td>\n",
       "      <td>0.944203</td>\n",
       "    </tr>\n",
       "    <tr>\n",
       "      <th>min</th>\n",
       "      <td>1.000000</td>\n",
       "      <td>NaN</td>\n",
       "      <td>NaN</td>\n",
       "      <td>NaN</td>\n",
       "      <td>NaN</td>\n",
       "      <td>NaN</td>\n",
       "      <td>0.000000</td>\n",
       "      <td>0.000000</td>\n",
       "    </tr>\n",
       "    <tr>\n",
       "      <th>25%</th>\n",
       "      <td>12508.000000</td>\n",
       "      <td>NaN</td>\n",
       "      <td>NaN</td>\n",
       "      <td>NaN</td>\n",
       "      <td>NaN</td>\n",
       "      <td>NaN</td>\n",
       "      <td>2.000000</td>\n",
       "      <td>1.000000</td>\n",
       "    </tr>\n",
       "    <tr>\n",
       "      <th>50%</th>\n",
       "      <td>25001.000000</td>\n",
       "      <td>NaN</td>\n",
       "      <td>NaN</td>\n",
       "      <td>NaN</td>\n",
       "      <td>NaN</td>\n",
       "      <td>NaN</td>\n",
       "      <td>3.000000</td>\n",
       "      <td>2.000000</td>\n",
       "    </tr>\n",
       "    <tr>\n",
       "      <th>75%</th>\n",
       "      <td>37508.000000</td>\n",
       "      <td>NaN</td>\n",
       "      <td>NaN</td>\n",
       "      <td>NaN</td>\n",
       "      <td>NaN</td>\n",
       "      <td>NaN</td>\n",
       "      <td>3.000000</td>\n",
       "      <td>2.000000</td>\n",
       "    </tr>\n",
       "    <tr>\n",
       "      <th>max</th>\n",
       "      <td>50000.000000</td>\n",
       "      <td>NaN</td>\n",
       "      <td>NaN</td>\n",
       "      <td>NaN</td>\n",
       "      <td>NaN</td>\n",
       "      <td>NaN</td>\n",
       "      <td>4.000000</td>\n",
       "      <td>3.000000</td>\n",
       "    </tr>\n",
       "  </tbody>\n",
       "</table>\n",
       "</div>"
      ],
      "text/plain": [
       "              pat_id      fac_id gender      region        district      Y  \\\n",
       "count   48133.000000       48133  48133       48133           48133  48133   \n",
       "unique           NaN         346      3          16              25      2   \n",
       "top              NaN  unkown_fac      m  North-West  Ngamiland East   True   \n",
       "freq             NaN        2415  23626       16115           14478  31031   \n",
       "mean    25005.948414         NaN    NaN         NaN             NaN    NaN   \n",
       "std     14437.375252         NaN    NaN         NaN             NaN    NaN   \n",
       "min         1.000000         NaN    NaN         NaN             NaN    NaN   \n",
       "25%     12508.000000         NaN    NaN         NaN             NaN    NaN   \n",
       "50%     25001.000000         NaN    NaN         NaN             NaN    NaN   \n",
       "75%     37508.000000         NaN    NaN         NaN             NaN    NaN   \n",
       "max     50000.000000         NaN    NaN         NaN             NaN    NaN   \n",
       "\n",
       "               n-opv         n-dtp  \n",
       "count   48133.000000  48133.000000  \n",
       "unique           NaN           NaN  \n",
       "top              NaN           NaN  \n",
       "freq             NaN           NaN  \n",
       "mean        2.635676      1.732533  \n",
       "std         0.969548      0.944203  \n",
       "min         0.000000      0.000000  \n",
       "25%         2.000000      1.000000  \n",
       "50%         3.000000      2.000000  \n",
       "75%         3.000000      2.000000  \n",
       "max         4.000000      3.000000  "
      ]
     },
     "execution_count": 472,
     "metadata": {},
     "output_type": "execute_result"
    }
   ],
   "source": [
    "training_data.describe(include = 'all')"
   ]
  },
  {
   "cell_type": "code",
   "execution_count": 487,
   "metadata": {},
   "outputs": [
    {
     "data": {
      "text/plain": [
       "['fac_id', 'gender', 'region', 'district']"
      ]
     },
     "execution_count": 487,
     "metadata": {},
     "output_type": "execute_result"
    }
   ],
   "source": [
    "# convert categorical variables to one-hot-encoded\n",
    "\n",
    "# Categorical boolean mask\n",
    "categorical_feature_mask = training_data.dtypes==object\n",
    "# filter categorical columns using mask and turn it into a list\n",
    "categorical_cols = training_data.columns[categorical_feature_mask].tolist()\n",
    "\n",
    "categorical_cols"
   ]
  },
  {
   "cell_type": "code",
   "execution_count": 476,
   "metadata": {},
   "outputs": [
    {
     "data": {
      "text/plain": [
       "pat_id      False\n",
       "fac_id       True\n",
       "gender       True\n",
       "region       True\n",
       "district     True\n",
       "n-opv       False\n",
       "n-dtp       False\n",
       "dtype: bool"
      ]
     },
     "execution_count": 476,
     "metadata": {},
     "output_type": "execute_result"
    }
   ],
   "source": [
    "categorical_feature_mask"
   ]
  },
  {
   "cell_type": "code",
   "execution_count": 488,
   "metadata": {},
   "outputs": [
    {
     "data": {
      "text/html": [
       "<div>\n",
       "<style scoped>\n",
       "    .dataframe tbody tr th:only-of-type {\n",
       "        vertical-align: middle;\n",
       "    }\n",
       "\n",
       "    .dataframe tbody tr th {\n",
       "        vertical-align: top;\n",
       "    }\n",
       "\n",
       "    .dataframe thead th {\n",
       "        text-align: right;\n",
       "    }\n",
       "</style>\n",
       "<table border=\"1\" class=\"dataframe\">\n",
       "  <thead>\n",
       "    <tr style=\"text-align: right;\">\n",
       "      <th></th>\n",
       "      <th>pat_id</th>\n",
       "      <th>Y</th>\n",
       "      <th>n-opv</th>\n",
       "      <th>n-dtp</th>\n",
       "      <th>fac_id_1.0</th>\n",
       "      <th>fac_id_2.0</th>\n",
       "      <th>fac_id_3.0</th>\n",
       "      <th>fac_id_4.0</th>\n",
       "      <th>fac_id_5.0</th>\n",
       "      <th>fac_id_6.0</th>\n",
       "      <th>...</th>\n",
       "      <th>district_Ngamiland West</th>\n",
       "      <th>district_Ngwaketse North</th>\n",
       "      <th>district_Palapye</th>\n",
       "      <th>district_Selibe Phikwe</th>\n",
       "      <th>district_Serowe</th>\n",
       "      <th>district_South East</th>\n",
       "      <th>district_Tshabong</th>\n",
       "      <th>district_Tuli</th>\n",
       "      <th>district_Tutume</th>\n",
       "      <th>district_unkown_dis</th>\n",
       "    </tr>\n",
       "  </thead>\n",
       "  <tbody>\n",
       "    <tr>\n",
       "      <th>0</th>\n",
       "      <td>1</td>\n",
       "      <td>False</td>\n",
       "      <td>3.0</td>\n",
       "      <td>2.0</td>\n",
       "      <td>0</td>\n",
       "      <td>0</td>\n",
       "      <td>0</td>\n",
       "      <td>0</td>\n",
       "      <td>0</td>\n",
       "      <td>0</td>\n",
       "      <td>...</td>\n",
       "      <td>0</td>\n",
       "      <td>0</td>\n",
       "      <td>0</td>\n",
       "      <td>0</td>\n",
       "      <td>0</td>\n",
       "      <td>0</td>\n",
       "      <td>0</td>\n",
       "      <td>0</td>\n",
       "      <td>0</td>\n",
       "      <td>0</td>\n",
       "    </tr>\n",
       "    <tr>\n",
       "      <th>1</th>\n",
       "      <td>2</td>\n",
       "      <td>True</td>\n",
       "      <td>1.0</td>\n",
       "      <td>0.0</td>\n",
       "      <td>0</td>\n",
       "      <td>0</td>\n",
       "      <td>0</td>\n",
       "      <td>0</td>\n",
       "      <td>0</td>\n",
       "      <td>0</td>\n",
       "      <td>...</td>\n",
       "      <td>0</td>\n",
       "      <td>0</td>\n",
       "      <td>0</td>\n",
       "      <td>0</td>\n",
       "      <td>0</td>\n",
       "      <td>0</td>\n",
       "      <td>0</td>\n",
       "      <td>0</td>\n",
       "      <td>0</td>\n",
       "      <td>0</td>\n",
       "    </tr>\n",
       "    <tr>\n",
       "      <th>2</th>\n",
       "      <td>3</td>\n",
       "      <td>True</td>\n",
       "      <td>2.0</td>\n",
       "      <td>1.0</td>\n",
       "      <td>0</td>\n",
       "      <td>0</td>\n",
       "      <td>0</td>\n",
       "      <td>0</td>\n",
       "      <td>0</td>\n",
       "      <td>0</td>\n",
       "      <td>...</td>\n",
       "      <td>0</td>\n",
       "      <td>0</td>\n",
       "      <td>0</td>\n",
       "      <td>0</td>\n",
       "      <td>0</td>\n",
       "      <td>0</td>\n",
       "      <td>0</td>\n",
       "      <td>0</td>\n",
       "      <td>1</td>\n",
       "      <td>0</td>\n",
       "    </tr>\n",
       "    <tr>\n",
       "      <th>3</th>\n",
       "      <td>4</td>\n",
       "      <td>True</td>\n",
       "      <td>1.0</td>\n",
       "      <td>1.0</td>\n",
       "      <td>0</td>\n",
       "      <td>0</td>\n",
       "      <td>0</td>\n",
       "      <td>0</td>\n",
       "      <td>0</td>\n",
       "      <td>0</td>\n",
       "      <td>...</td>\n",
       "      <td>0</td>\n",
       "      <td>0</td>\n",
       "      <td>0</td>\n",
       "      <td>0</td>\n",
       "      <td>0</td>\n",
       "      <td>0</td>\n",
       "      <td>0</td>\n",
       "      <td>0</td>\n",
       "      <td>0</td>\n",
       "      <td>0</td>\n",
       "    </tr>\n",
       "    <tr>\n",
       "      <th>4</th>\n",
       "      <td>5</td>\n",
       "      <td>True</td>\n",
       "      <td>3.0</td>\n",
       "      <td>2.0</td>\n",
       "      <td>0</td>\n",
       "      <td>0</td>\n",
       "      <td>0</td>\n",
       "      <td>0</td>\n",
       "      <td>0</td>\n",
       "      <td>0</td>\n",
       "      <td>...</td>\n",
       "      <td>0</td>\n",
       "      <td>0</td>\n",
       "      <td>0</td>\n",
       "      <td>0</td>\n",
       "      <td>0</td>\n",
       "      <td>0</td>\n",
       "      <td>0</td>\n",
       "      <td>1</td>\n",
       "      <td>0</td>\n",
       "      <td>0</td>\n",
       "    </tr>\n",
       "  </tbody>\n",
       "</table>\n",
       "<p>5 rows × 394 columns</p>\n",
       "</div>"
      ],
      "text/plain": [
       "   pat_id      Y  n-opv  n-dtp  fac_id_1.0  fac_id_2.0  fac_id_3.0  \\\n",
       "0       1  False    3.0    2.0           0           0           0   \n",
       "1       2   True    1.0    0.0           0           0           0   \n",
       "2       3   True    2.0    1.0           0           0           0   \n",
       "3       4   True    1.0    1.0           0           0           0   \n",
       "4       5   True    3.0    2.0           0           0           0   \n",
       "\n",
       "   fac_id_4.0  fac_id_5.0  fac_id_6.0  ...  district_Ngamiland West  \\\n",
       "0           0           0           0  ...                        0   \n",
       "1           0           0           0  ...                        0   \n",
       "2           0           0           0  ...                        0   \n",
       "3           0           0           0  ...                        0   \n",
       "4           0           0           0  ...                        0   \n",
       "\n",
       "   district_Ngwaketse North  district_Palapye  district_Selibe Phikwe  \\\n",
       "0                         0                 0                       0   \n",
       "1                         0                 0                       0   \n",
       "2                         0                 0                       0   \n",
       "3                         0                 0                       0   \n",
       "4                         0                 0                       0   \n",
       "\n",
       "   district_Serowe  district_South East  district_Tshabong  district_Tuli  \\\n",
       "0                0                    0                  0              0   \n",
       "1                0                    0                  0              0   \n",
       "2                0                    0                  0              0   \n",
       "3                0                    0                  0              0   \n",
       "4                0                    0                  0              1   \n",
       "\n",
       "   district_Tutume  district_unkown_dis  \n",
       "0                0                    0  \n",
       "1                0                    0  \n",
       "2                1                    0  \n",
       "3                0                    0  \n",
       "4                0                    0  \n",
       "\n",
       "[5 rows x 394 columns]"
      ]
     },
     "execution_count": 488,
     "metadata": {},
     "output_type": "execute_result"
    }
   ],
   "source": [
    "# generate binary values using get_dummies\n",
    "training_data = pd.get_dummies(training_data, columns=categorical_cols)\n",
    "training_data.head()"
   ]
  },
  {
   "cell_type": "code",
   "execution_count": 515,
   "metadata": {},
   "outputs": [],
   "source": [
    "# split into train/test set\n",
    "X_train, X_test, y_train, y_test = train_test_split(training_data.drop(columns = ['Y', 'pat_id']), \n",
    "                                                    training_data['Y'],\n",
    "                                                    random_state=RND, \n",
    "                                                    stratify = training_data['Y'])"
   ]
  },
  {
   "cell_type": "code",
   "execution_count": 532,
   "metadata": {},
   "outputs": [
    {
     "name": "stdout",
     "output_type": "stream",
     "text": [
      "Train on 36099 samples, validate on 12034 samples\n",
      "Epoch 1/5\n",
      "36099/36099 [==============================] - 20s 542us/step - loss: 1.3894 - accuracy: 0.7252 - val_loss: 0.4981 - val_accuracy: 0.7435\n",
      "Epoch 2/5\n",
      "36099/36099 [==============================] - 22s 611us/step - loss: 0.4834 - accuracy: 0.7618 - val_loss: 0.4585 - val_accuracy: 0.7809\n",
      "Epoch 3/5\n",
      "36099/36099 [==============================] - 22s 618us/step - loss: 0.4525 - accuracy: 0.8137 - val_loss: 0.4327 - val_accuracy: 0.8465\n",
      "Epoch 4/5\n",
      "36099/36099 [==============================] - 20s 555us/step - loss: 0.4321 - accuracy: 0.8405 - val_loss: 0.4203 - val_accuracy: 0.8559\n",
      "Epoch 5/5\n",
      "36099/36099 [==============================] - 18s 503us/step - loss: 0.4184 - accuracy: 0.8509 - val_loss: 0.4258 - val_accuracy: 0.8622\n"
     ]
    },
    {
     "data": {
      "text/plain": [
       "<keras.callbacks.callbacks.History at 0x11a3ecb70>"
      ]
     },
     "execution_count": 532,
     "metadata": {},
     "output_type": "execute_result"
    }
   ],
   "source": [
    "model = Sequential()\n",
    "model.add(Dense(392, input_dim=392, activation='relu',kernel_regularizer=L1L2(l1=0.0, l2=0.1)))\n",
    "model.add(Dense(1, activation='sigmoid'))\n",
    "\n",
    "model.compile(loss='binary_crossentropy', optimizer='adam', metrics=['accuracy'])\n",
    "\n",
    "model.fit(X_train, y_train, epochs=5, validation_data=(X_test, y_test))"
   ]
  },
  {
   "cell_type": "code",
   "execution_count": null,
   "metadata": {},
   "outputs": [],
   "source": [
    "# final model accuracy on test set - 0.8622"
   ]
  },
  {
   "cell_type": "code",
   "execution_count": 535,
   "metadata": {},
   "outputs": [
    {
     "name": "stdout",
     "output_type": "stream",
     "text": [
      "12034/12034 [==============================] - 1s 82us/step\n",
      "Accuracy on test set: 0.86\n"
     ]
    }
   ],
   "source": [
    "eval = model.evaluate(x=X_test, y=y_test)\n",
    "print('Accuracy on test set: {:.2f}'.format(eval[1]))"
   ]
  },
  {
   "cell_type": "code",
   "execution_count": null,
   "metadata": {},
   "outputs": [],
   "source": []
  },
  {
   "cell_type": "code",
   "execution_count": null,
   "metadata": {},
   "outputs": [],
   "source": []
  },
  {
   "cell_type": "code",
   "execution_count": null,
   "metadata": {},
   "outputs": [],
   "source": [
    "# old - using sklearn"
   ]
  },
  {
   "cell_type": "code",
   "execution_count": 526,
   "metadata": {},
   "outputs": [
    {
     "data": {
      "text/plain": [
       "LogisticRegression(C=1.0, class_weight=None, dual=False, fit_intercept=True,\n",
       "                   intercept_scaling=1, l1_ratio=None, max_iter=1000,\n",
       "                   multi_class='auto', n_jobs=None, penalty='l2',\n",
       "                   random_state=None, solver='lbfgs', tol=0.0001, verbose=0,\n",
       "                   warm_start=False)"
      ]
     },
     "execution_count": 526,
     "metadata": {},
     "output_type": "execute_result"
    }
   ],
   "source": [
    "logreg = LogisticRegression(max_iter=1000)\n",
    "logreg.fit(X_train, y_train)"
   ]
  },
  {
   "cell_type": "code",
   "execution_count": 528,
   "metadata": {},
   "outputs": [
    {
     "name": "stdout",
     "output_type": "stream",
     "text": [
      "Accuracy on test set: 0.71\n"
     ]
    }
   ],
   "source": [
    "y_pred = logreg.predict(X_test)\n",
    "print('Accuracy on test set: {:.2f}'.format(logreg.score(X_test, y_test)))"
   ]
  },
  {
   "cell_type": "code",
   "execution_count": 531,
   "metadata": {},
   "outputs": [
    {
     "data": {
      "text/plain": [
       "0.8243103892755865"
      ]
     },
     "execution_count": 531,
     "metadata": {},
     "output_type": "execute_result"
    }
   ],
   "source": [
    "from sklearn.metrics import recall_score\n",
    "\n",
    "recall_score(y_test, y_pred)"
   ]
  }
 ],
 "metadata": {
  "kernelspec": {
   "display_name": "Python [conda env:macro-eyes]",
   "language": "python",
   "name": "conda-env-macro-eyes-py"
  },
  "language_info": {
   "codemirror_mode": {
    "name": "ipython",
    "version": 3
   },
   "file_extension": ".py",
   "mimetype": "text/x-python",
   "name": "python",
   "nbconvert_exporter": "python",
   "pygments_lexer": "ipython3",
   "version": "3.6.10"
  }
 },
 "nbformat": 4,
 "nbformat_minor": 4
}
